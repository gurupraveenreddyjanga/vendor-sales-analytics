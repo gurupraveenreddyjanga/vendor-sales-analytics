{
 "cells": [
  {
   "cell_type": "code",
   "execution_count": 64,
   "id": "baf43a93-f421-4de9-8c8a-a6413703fb34",
   "metadata": {},
   "outputs": [],
   "source": [
    "import pandas as pd\n",
    "import numpy as np"
   ]
  },
  {
   "cell_type": "code",
   "execution_count": 65,
   "id": "5918f943-a844-4064-bd2c-30fe5899a6d2",
   "metadata": {},
   "outputs": [],
   "source": [
    "End_Inventory=pd.read_csv(r\"C:\\Users\\GURU PRAVEEN REDDY J\\Desktop\\Datasets\\Vendor Data Project Datasets\\data\\end_inventory.csv\")"
   ]
  },
  {
   "cell_type": "code",
   "execution_count": 66,
   "id": "a711879e-c851-45ed-bbcb-bfbaf0087df1",
   "metadata": {},
   "outputs": [
    {
     "name": "stdout",
     "output_type": "stream",
     "text": [
      "<class 'pandas.core.frame.DataFrame'>\n",
      "RangeIndex: 224489 entries, 0 to 224488\n",
      "Data columns (total 9 columns):\n",
      " #   Column       Non-Null Count   Dtype  \n",
      "---  ------       --------------   -----  \n",
      " 0   InventoryId  224489 non-null  object \n",
      " 1   Store        224489 non-null  int64  \n",
      " 2   City         223205 non-null  object \n",
      " 3   Brand        224489 non-null  int64  \n",
      " 4   Description  224489 non-null  object \n",
      " 5   Size         224489 non-null  object \n",
      " 6   onHand       224489 non-null  int64  \n",
      " 7   Price        224489 non-null  float64\n",
      " 8   endDate      224489 non-null  object \n",
      "dtypes: float64(1), int64(3), object(5)\n",
      "memory usage: 15.4+ MB\n"
     ]
    }
   ],
   "source": [
    "End_Inventory.info()"
   ]
  },
  {
   "cell_type": "code",
   "execution_count": 67,
   "id": "21a19f5f-6106-4f1a-8555-7be71a92d52b",
   "metadata": {},
   "outputs": [
    {
     "data": {
      "text/plain": [
       "InventoryId       0\n",
       "Store             0\n",
       "City           1284\n",
       "Brand             0\n",
       "Description       0\n",
       "Size              0\n",
       "onHand            0\n",
       "Price             0\n",
       "endDate           0\n",
       "dtype: int64"
      ]
     },
     "execution_count": 67,
     "metadata": {},
     "output_type": "execute_result"
    }
   ],
   "source": [
    "End_Inventory.isnull().sum()"
   ]
  },
  {
   "cell_type": "code",
   "execution_count": 68,
   "id": "dafeb46a-ab0a-4b99-8b7f-aa5ad549c8f3",
   "metadata": {},
   "outputs": [],
   "source": [
    "### first i am gonna check how much data will losse after dropping nan values from city"
   ]
  },
  {
   "cell_type": "code",
   "execution_count": 69,
   "id": "a7764ef4-9135-40d9-9821-cd59b38bccdf",
   "metadata": {},
   "outputs": [
    {
     "data": {
      "text/plain": [
       "0.5719656642419005"
      ]
     },
     "execution_count": 69,
     "metadata": {},
     "output_type": "execute_result"
    }
   ],
   "source": [
    "(1284)*100/End_Inventory.shape[0]"
   ]
  },
  {
   "cell_type": "code",
   "execution_count": 70,
   "id": "1dd8e4bf-754a-44a1-a0f1-5b2043065985",
   "metadata": {},
   "outputs": [
    {
     "name": "stdout",
     "output_type": "stream",
     "text": [
      "0.57%\n"
     ]
    }
   ],
   "source": [
    "def to_get_nan_dropping_percent(df):\n",
    "    total_rows_before_dropping_nan=df.shape[0]\n",
    "    total_rows_after_dropping_nan=df.dropna().shape[0]\n",
    "    result=round(total_rows_after_dropping_nan*100/total_rows_before_dropping_nan,2)\n",
    "    return str(round(100-result,2))+\"%\"\n",
    "dropping_percent=to_get_nan_dropping_percent(End_Inventory)\n",
    "print(dropping_percent)"
   ]
  },
  {
   "cell_type": "code",
   "execution_count": 71,
   "id": "29c72136-588f-4ea4-a7b6-d09015371c5c",
   "metadata": {},
   "outputs": [],
   "source": [
    "### i am gonna loose only 0.57% of the data but i am not gonna drop nan values from the data becasue, i am not connecting city column to any other dataset in final EDA"
   ]
  },
  {
   "cell_type": "code",
   "execution_count": 72,
   "id": "af83835f-5fd6-4044-a55c-1ca1356c2c29",
   "metadata": {},
   "outputs": [
    {
     "data": {
      "text/html": [
       "<div>\n",
       "<style scoped>\n",
       "    .dataframe tbody tr th:only-of-type {\n",
       "        vertical-align: middle;\n",
       "    }\n",
       "\n",
       "    .dataframe tbody tr th {\n",
       "        vertical-align: top;\n",
       "    }\n",
       "\n",
       "    .dataframe thead th {\n",
       "        text-align: right;\n",
       "    }\n",
       "</style>\n",
       "<table border=\"1\" class=\"dataframe\">\n",
       "  <thead>\n",
       "    <tr style=\"text-align: right;\">\n",
       "      <th></th>\n",
       "      <th>InventoryId</th>\n",
       "      <th>Store</th>\n",
       "      <th>City</th>\n",
       "      <th>Brand</th>\n",
       "      <th>Description</th>\n",
       "      <th>Size</th>\n",
       "      <th>onHand</th>\n",
       "      <th>Price</th>\n",
       "      <th>endDate</th>\n",
       "    </tr>\n",
       "  </thead>\n",
       "  <tbody>\n",
       "    <tr>\n",
       "      <th>52035</th>\n",
       "      <td>22_SHARNWICK_7254</td>\n",
       "      <td>22</td>\n",
       "      <td>SHARNWICK</td>\n",
       "      <td>7254</td>\n",
       "      <td>Cribari Marsala</td>\n",
       "      <td>750mL</td>\n",
       "      <td>15</td>\n",
       "      <td>7.99</td>\n",
       "      <td>2024-12-31</td>\n",
       "    </tr>\n",
       "    <tr>\n",
       "      <th>112894</th>\n",
       "      <td>45_VERITAS_3580</td>\n",
       "      <td>45</td>\n",
       "      <td>VERITAS</td>\n",
       "      <td>3580</td>\n",
       "      <td>Smirnoff Orange Vodka</td>\n",
       "      <td>750mL</td>\n",
       "      <td>16</td>\n",
       "      <td>12.99</td>\n",
       "      <td>2024-12-31</td>\n",
       "    </tr>\n",
       "    <tr>\n",
       "      <th>9793</th>\n",
       "      <td>5_SUTTON_4938</td>\n",
       "      <td>5</td>\n",
       "      <td>SUTTON</td>\n",
       "      <td>4938</td>\n",
       "      <td>Kapali Coffee</td>\n",
       "      <td>750mL</td>\n",
       "      <td>13</td>\n",
       "      <td>8.99</td>\n",
       "      <td>2024-12-31</td>\n",
       "    </tr>\n",
       "    <tr>\n",
       "      <th>46544</th>\n",
       "      <td>20_BREDWARDINE_8102</td>\n",
       "      <td>20</td>\n",
       "      <td>BREDWARDINE</td>\n",
       "      <td>8102</td>\n",
       "      <td>Absolut Mandrin</td>\n",
       "      <td>1.75L</td>\n",
       "      <td>27</td>\n",
       "      <td>24.99</td>\n",
       "      <td>2024-12-31</td>\n",
       "    </tr>\n",
       "    <tr>\n",
       "      <th>146275</th>\n",
       "      <td>56_BEGGAR'S HOLE_24874</td>\n",
       "      <td>56</td>\n",
       "      <td>BEGGAR'S HOLE</td>\n",
       "      <td>24874</td>\n",
       "      <td>Benziger Merlot</td>\n",
       "      <td>750mL</td>\n",
       "      <td>14</td>\n",
       "      <td>11.99</td>\n",
       "      <td>2024-12-31</td>\n",
       "    </tr>\n",
       "    <tr>\n",
       "      <th>57026</th>\n",
       "      <td>23_ARBINGTON_34850</td>\n",
       "      <td>23</td>\n",
       "      <td>ARBINGTON</td>\n",
       "      <td>34850</td>\n",
       "      <td>Bargetto Chaucer's Hney Mead</td>\n",
       "      <td>750mL</td>\n",
       "      <td>3</td>\n",
       "      <td>12.99</td>\n",
       "      <td>2024-12-31</td>\n",
       "    </tr>\n",
       "    <tr>\n",
       "      <th>11400</th>\n",
       "      <td>6_GOULCREST_3726</td>\n",
       "      <td>6</td>\n",
       "      <td>GOULCREST</td>\n",
       "      <td>3726</td>\n",
       "      <td>Gilbeys Vodka Traveler</td>\n",
       "      <td>750mL</td>\n",
       "      <td>21</td>\n",
       "      <td>4.99</td>\n",
       "      <td>2024-12-31</td>\n",
       "    </tr>\n",
       "    <tr>\n",
       "      <th>42439</th>\n",
       "      <td>18_FURNESS_41546</td>\n",
       "      <td>18</td>\n",
       "      <td>FURNESS</td>\n",
       "      <td>41546</td>\n",
       "      <td>Monkey Bay Svgn Bl</td>\n",
       "      <td>750mL</td>\n",
       "      <td>12</td>\n",
       "      <td>7.99</td>\n",
       "      <td>2024-12-31</td>\n",
       "    </tr>\n",
       "    <tr>\n",
       "      <th>26629</th>\n",
       "      <td>11_CARDEND_5367</td>\n",
       "      <td>11</td>\n",
       "      <td>CARDEND</td>\n",
       "      <td>5367</td>\n",
       "      <td>Sambuca di Amore</td>\n",
       "      <td>750mL</td>\n",
       "      <td>10</td>\n",
       "      <td>9.99</td>\n",
       "      <td>2024-12-31</td>\n",
       "    </tr>\n",
       "    <tr>\n",
       "      <th>137334</th>\n",
       "      <td>54_GUTHRAM_5090</td>\n",
       "      <td>54</td>\n",
       "      <td>GUTHRAM</td>\n",
       "      <td>5090</td>\n",
       "      <td>El Charro Silver Tequila</td>\n",
       "      <td>750mL</td>\n",
       "      <td>3</td>\n",
       "      <td>12.99</td>\n",
       "      <td>2024-12-31</td>\n",
       "    </tr>\n",
       "  </tbody>\n",
       "</table>\n",
       "</div>"
      ],
      "text/plain": [
       "                   InventoryId  Store           City  Brand  \\\n",
       "52035        22_SHARNWICK_7254     22      SHARNWICK   7254   \n",
       "112894         45_VERITAS_3580     45        VERITAS   3580   \n",
       "9793             5_SUTTON_4938      5         SUTTON   4938   \n",
       "46544      20_BREDWARDINE_8102     20    BREDWARDINE   8102   \n",
       "146275  56_BEGGAR'S HOLE_24874     56  BEGGAR'S HOLE  24874   \n",
       "57026       23_ARBINGTON_34850     23      ARBINGTON  34850   \n",
       "11400         6_GOULCREST_3726      6      GOULCREST   3726   \n",
       "42439         18_FURNESS_41546     18        FURNESS  41546   \n",
       "26629          11_CARDEND_5367     11        CARDEND   5367   \n",
       "137334         54_GUTHRAM_5090     54        GUTHRAM   5090   \n",
       "\n",
       "                         Description   Size  onHand  Price     endDate  \n",
       "52035                Cribari Marsala  750mL      15   7.99  2024-12-31  \n",
       "112894         Smirnoff Orange Vodka  750mL      16  12.99  2024-12-31  \n",
       "9793                   Kapali Coffee  750mL      13   8.99  2024-12-31  \n",
       "46544                Absolut Mandrin  1.75L      27  24.99  2024-12-31  \n",
       "146275               Benziger Merlot  750mL      14  11.99  2024-12-31  \n",
       "57026   Bargetto Chaucer's Hney Mead  750mL       3  12.99  2024-12-31  \n",
       "11400         Gilbeys Vodka Traveler  750mL      21   4.99  2024-12-31  \n",
       "42439             Monkey Bay Svgn Bl  750mL      12   7.99  2024-12-31  \n",
       "26629               Sambuca di Amore  750mL      10   9.99  2024-12-31  \n",
       "137334      El Charro Silver Tequila  750mL       3  12.99  2024-12-31  "
      ]
     },
     "execution_count": 72,
     "metadata": {},
     "output_type": "execute_result"
    }
   ],
   "source": [
    "End_Inventory.sample(10)"
   ]
  },
  {
   "cell_type": "code",
   "execution_count": 73,
   "id": "9fb79d8a-935a-46e6-9c82-decf5eb80a14",
   "metadata": {},
   "outputs": [
    {
     "data": {
      "text/html": [
       "<div>\n",
       "<style scoped>\n",
       "    .dataframe tbody tr th:only-of-type {\n",
       "        vertical-align: middle;\n",
       "    }\n",
       "\n",
       "    .dataframe tbody tr th {\n",
       "        vertical-align: top;\n",
       "    }\n",
       "\n",
       "    .dataframe thead th {\n",
       "        text-align: right;\n",
       "    }\n",
       "</style>\n",
       "<table border=\"1\" class=\"dataframe\">\n",
       "  <thead>\n",
       "    <tr style=\"text-align: right;\">\n",
       "      <th></th>\n",
       "      <th>InventoryId</th>\n",
       "      <th>Store</th>\n",
       "      <th>City</th>\n",
       "      <th>Brand</th>\n",
       "      <th>Description</th>\n",
       "      <th>Size</th>\n",
       "      <th>onHand</th>\n",
       "      <th>Price</th>\n",
       "      <th>endDate</th>\n",
       "    </tr>\n",
       "  </thead>\n",
       "  <tbody>\n",
       "  </tbody>\n",
       "</table>\n",
       "</div>"
      ],
      "text/plain": [
       "Empty DataFrame\n",
       "Columns: [InventoryId, Store, City, Brand, Description, Size, onHand, Price, endDate]\n",
       "Index: []"
      ]
     },
     "execution_count": 73,
     "metadata": {},
     "output_type": "execute_result"
    }
   ],
   "source": [
    "End_Inventory[End_Inventory[\"InventoryId\"].str.strip()!=End_Inventory[\"InventoryId\"]] ### There are no whitespaces in the the column"
   ]
  },
  {
   "cell_type": "code",
   "execution_count": 74,
   "id": "53b5ef54-3fba-4e47-b2aa-a3feb5674b9e",
   "metadata": {},
   "outputs": [
    {
     "data": {
      "text/plain": [
       "array(['HARDERSFIELD', 'ASHBORNE', 'HORNSEY', 'EANVERNESS', 'SUTTON',\n",
       "       'GOULCREST', 'STANMORE', 'ALNERWICK', 'BLACKPOOL', 'CARDEND',\n",
       "       'LEESIDE', 'TARMSWORTH', 'BROMWICH', 'WANBORNE', 'LUNDY', 'OLDHAM',\n",
       "       'FURNESS', 'WINTERVALE', 'BREDWARDINE', 'BALERNO', 'SHARNWICK',\n",
       "       'ARBINGTON', 'PALPERROTH', 'CAERSHIRE', \"KNIFE'S EDGE\",\n",
       "       'MOUNTMEND', 'LARNWICK', 'AYLESBURY', 'CULCHETH', 'PITMERDEN',\n",
       "       'HALIVAARA', 'LEWES', 'PAETHSMOUTH', 'EASTHALLOW', 'BULLMAR',\n",
       "       'BLACK HOLLOW', 'WOLFORD', 'PORTHCRAWL', 'VERITAS', nan,\n",
       "       \"PELLA'S WISH\", 'NORFOLK', 'GARIGILL', 'ABERDEEN', 'GRAYCOTT',\n",
       "       'HILLFAR', 'GUTHRAM', 'DRY GULCH', \"BEGGAR'S HOLE\", 'LANTEGLOS',\n",
       "       'HARTLEPOOL', 'CLAETHORPES', 'IRRAGIN', 'AETHELNEY', 'KILMARNOCK',\n",
       "       'SWORDBREAK', 'CESTERFIELD', 'LUTON', 'SOLARIS', 'KELD',\n",
       "       'CLARCTON', 'DONCASTER', 'PAENTMARWY', 'BARNCOMBE', 'TAMWORTH',\n",
       "       'EASTHAVEN', 'BALLYMENA', 'PEMBROKE'], dtype=object)"
      ]
     },
     "execution_count": 74,
     "metadata": {},
     "output_type": "execute_result"
    }
   ],
   "source": [
    "End_Inventory[\"City\"].unique()"
   ]
  },
  {
   "cell_type": "code",
   "execution_count": 75,
   "id": "b65d42f3-5d55-424b-89a2-8537081c10b1",
   "metadata": {},
   "outputs": [
    {
     "data": {
      "text/plain": [
       "9653"
      ]
     },
     "execution_count": 75,
     "metadata": {},
     "output_type": "execute_result"
    }
   ],
   "source": [
    "End_Inventory[\"Brand\"].nunique()"
   ]
  },
  {
   "cell_type": "code",
   "execution_count": 76,
   "id": "ea50e9a3-dfd7-4a13-a91c-838e2b36ebf8",
   "metadata": {},
   "outputs": [
    {
     "data": {
      "text/plain": [
       "array(['750mL', 'Liter', '750mL + 2/', '1.75L', '50mL', '375mL',\n",
       "       '50mL 4 Pk', '200mL 3 Pk', '50mL 3 Pk', '750mL + 3/', '375mL 2 Pk',\n",
       "       '100mL 4 Pk', '250mL', '100mL', '50mL 5 Pk', '3/100mL',\n",
       "       '200mL 4 Pk', '250mL 4 Pk', '200mL', '1.5L', '5L', '4L',\n",
       "       '187mL 4 Pk', '3L', '5.0 Oz', '187mL 3 Pk', '187mL', '500mL',\n",
       "       '750mL 3 Pk', '400mL', '300mL', '330mL', '18L', '750mL 2 Pk',\n",
       "       '5/2 oz', '720mL', '375mL 3 Pk', '750mL + 1/', '180mL',\n",
       "       '200mL 5 Pk', '6L', '187mL 2 Pk', '750mL 4 Pk', '750mL 6 Pk',\n",
       "       '750mL + 4/', '25.0', '128.0 Gal'], dtype=object)"
      ]
     },
     "execution_count": 76,
     "metadata": {},
     "output_type": "execute_result"
    }
   ],
   "source": [
    "End_Inventory[\"Size\"].unique()"
   ]
  },
  {
   "cell_type": "code",
   "execution_count": 77,
   "id": "c34395d8-1a56-4859-bc5c-495c90341095",
   "metadata": {},
   "outputs": [],
   "source": [
    "conversion_dict = {\n",
    "    '750mL': '750','Liter': '1000','750mL + 2/': '850', '1.75L': '1750','50mL': '50',\n",
    "    '375mL': '375','50mL 4 Pk': '200','200mL 3 Pk': '600','50mL 3 Pk': '150','750mL + 3/': '900','375mL 2 Pk': '750',\n",
    "    '100mL 4 Pk': '400','250mL': '250','100mL': '100','50mL 5 Pk': '250','3/100mL': '300',\n",
    "     '200mL 4 Pk': '800','250mL 4 Pk': '1000','200mL': '200','1.5L': '1500','5L': '5000','4L': '4000','187mL 4 Pk': '748',\n",
    "    '3L': '3000','5.0 Oz': '147.87','187mL 3 Pk': '561','187mL': '187','500mL': '500','750mL 3 Pk': '2250',\n",
    "    '400mL': '400','300mL': '300','330mL': '330','18L': '18000','750mL 2 Pk': '1500',\n",
    "    '5/2 oz': '74',         # 5 ÷ 2 × 29.5735 ≈ 73.93\n",
    "    '720mL': '720','375mL 3 Pk': '1125','750mL + 1/': '800','180mL': '180',\n",
    "    '200mL 5 Pk': '1000','6L': '6000','187mL 2 Pk': '374','750mL 4 Pk': '3000',\n",
    "    '750mL 6 Pk': '4500','750mL + 4/': '950','25.0': '25.0','128.0 Gal': '484531'   # 128 × 3785.41\n",
    "}\n"
   ]
  },
  {
   "cell_type": "code",
   "execution_count": 78,
   "id": "455bda01-f1a7-4fac-85db-cd749cc89eed",
   "metadata": {},
   "outputs": [],
   "source": [
    "End_Inventory[\"Size\"]=End_Inventory[\"Size\"].replace(conversion_dict)"
   ]
  },
  {
   "cell_type": "code",
   "execution_count": 79,
   "id": "d95ed7d6-442d-4b52-8c6e-032595e84849",
   "metadata": {},
   "outputs": [],
   "source": [
    "End_Inventory.rename(columns={\"Size\":\"Size in ml\"},inplace=True)"
   ]
  },
  {
   "cell_type": "code",
   "execution_count": 80,
   "id": "d421e20c-9186-47ac-8486-3cd9c848a0df",
   "metadata": {},
   "outputs": [],
   "source": [
    "End_Inventory[\"Size in ml\"]=End_Inventory[\"Size in ml\"].astype(dtype=\"float\")"
   ]
  },
  {
   "cell_type": "code",
   "execution_count": 81,
   "id": "af78ff84-4bdf-4c52-8bb6-c995383da97f",
   "metadata": {},
   "outputs": [],
   "source": [
    "End_Inventory[\"startDate\"]=pd.to_datetime(End_Inventory[\"endDate\"])"
   ]
  },
  {
   "cell_type": "code",
   "execution_count": 82,
   "id": "c6656a6e-20e7-49df-a0a6-0288e34107ee",
   "metadata": {},
   "outputs": [],
   "source": [
    "End_Inventory[\"startDate\"]=End_Inventory[\"startDate\"].dt.date"
   ]
  },
  {
   "cell_type": "code",
   "execution_count": 83,
   "id": "8ec526c9-0c0d-416c-8bdf-f18ede0d4656",
   "metadata": {},
   "outputs": [
    {
     "data": {
      "text/html": [
       "<div>\n",
       "<style scoped>\n",
       "    .dataframe tbody tr th:only-of-type {\n",
       "        vertical-align: middle;\n",
       "    }\n",
       "\n",
       "    .dataframe tbody tr th {\n",
       "        vertical-align: top;\n",
       "    }\n",
       "\n",
       "    .dataframe thead th {\n",
       "        text-align: right;\n",
       "    }\n",
       "</style>\n",
       "<table border=\"1\" class=\"dataframe\">\n",
       "  <thead>\n",
       "    <tr style=\"text-align: right;\">\n",
       "      <th></th>\n",
       "      <th>Store</th>\n",
       "      <th>Brand</th>\n",
       "      <th>Size in ml</th>\n",
       "      <th>onHand</th>\n",
       "      <th>Price</th>\n",
       "    </tr>\n",
       "  </thead>\n",
       "  <tbody>\n",
       "    <tr>\n",
       "      <th>count</th>\n",
       "      <td>224489.000000</td>\n",
       "      <td>224489.000000</td>\n",
       "      <td>224489.00000</td>\n",
       "      <td>224489.000000</td>\n",
       "      <td>224489.000000</td>\n",
       "    </tr>\n",
       "    <tr>\n",
       "      <th>mean</th>\n",
       "      <td>43.505740</td>\n",
       "      <td>14356.370513</td>\n",
       "      <td>911.81584</td>\n",
       "      <td>21.763988</td>\n",
       "      <td>23.585583</td>\n",
       "    </tr>\n",
       "    <tr>\n",
       "      <th>std</th>\n",
       "      <td>23.326415</td>\n",
       "      <td>13118.467851</td>\n",
       "      <td>1183.91908</td>\n",
       "      <td>37.233576</td>\n",
       "      <td>79.202775</td>\n",
       "    </tr>\n",
       "    <tr>\n",
       "      <th>min</th>\n",
       "      <td>1.000000</td>\n",
       "      <td>58.000000</td>\n",
       "      <td>25.00000</td>\n",
       "      <td>0.000000</td>\n",
       "      <td>0.490000</td>\n",
       "    </tr>\n",
       "    <tr>\n",
       "      <th>25%</th>\n",
       "      <td>23.000000</td>\n",
       "      <td>3798.000000</td>\n",
       "      <td>750.00000</td>\n",
       "      <td>7.000000</td>\n",
       "      <td>9.990000</td>\n",
       "    </tr>\n",
       "    <tr>\n",
       "      <th>50%</th>\n",
       "      <td>44.000000</td>\n",
       "      <td>8259.000000</td>\n",
       "      <td>750.00000</td>\n",
       "      <td>12.000000</td>\n",
       "      <td>14.990000</td>\n",
       "    </tr>\n",
       "    <tr>\n",
       "      <th>75%</th>\n",
       "      <td>66.000000</td>\n",
       "      <td>23965.000000</td>\n",
       "      <td>750.00000</td>\n",
       "      <td>22.000000</td>\n",
       "      <td>23.490000</td>\n",
       "    </tr>\n",
       "    <tr>\n",
       "      <th>max</th>\n",
       "      <td>81.000000</td>\n",
       "      <td>90631.000000</td>\n",
       "      <td>484531.00000</td>\n",
       "      <td>3676.000000</td>\n",
       "      <td>13999.900000</td>\n",
       "    </tr>\n",
       "  </tbody>\n",
       "</table>\n",
       "</div>"
      ],
      "text/plain": [
       "               Store          Brand    Size in ml         onHand  \\\n",
       "count  224489.000000  224489.000000  224489.00000  224489.000000   \n",
       "mean       43.505740   14356.370513     911.81584      21.763988   \n",
       "std        23.326415   13118.467851    1183.91908      37.233576   \n",
       "min         1.000000      58.000000      25.00000       0.000000   \n",
       "25%        23.000000    3798.000000     750.00000       7.000000   \n",
       "50%        44.000000    8259.000000     750.00000      12.000000   \n",
       "75%        66.000000   23965.000000     750.00000      22.000000   \n",
       "max        81.000000   90631.000000  484531.00000    3676.000000   \n",
       "\n",
       "               Price  \n",
       "count  224489.000000  \n",
       "mean       23.585583  \n",
       "std        79.202775  \n",
       "min         0.490000  \n",
       "25%         9.990000  \n",
       "50%        14.990000  \n",
       "75%        23.490000  \n",
       "max     13999.900000  "
      ]
     },
     "execution_count": 83,
     "metadata": {},
     "output_type": "execute_result"
    }
   ],
   "source": [
    "End_Inventory.describe()"
   ]
  },
  {
   "cell_type": "code",
   "execution_count": 84,
   "id": "c2114e86-7ec7-471f-b4b2-c45bc7f8aea5",
   "metadata": {},
   "outputs": [],
   "source": [
    "End_Inventory.to_csv(r\"C:\\Users\\GURU PRAVEEN REDDY J\\Desktop\\Datasets\\Vendor Data Project Datasets\\data\\Cleaned Datasets\\End_Inventory.csv\",index=False)"
   ]
  },
  {
   "cell_type": "code",
   "execution_count": 85,
   "id": "eb3c13ec-afaf-4972-9a97-97376cc5724e",
   "metadata": {},
   "outputs": [
    {
     "data": {
      "text/html": [
       "<div>\n",
       "<style scoped>\n",
       "    .dataframe tbody tr th:only-of-type {\n",
       "        vertical-align: middle;\n",
       "    }\n",
       "\n",
       "    .dataframe tbody tr th {\n",
       "        vertical-align: top;\n",
       "    }\n",
       "\n",
       "    .dataframe thead th {\n",
       "        text-align: right;\n",
       "    }\n",
       "</style>\n",
       "<table border=\"1\" class=\"dataframe\">\n",
       "  <thead>\n",
       "    <tr style=\"text-align: right;\">\n",
       "      <th></th>\n",
       "      <th>InventoryId</th>\n",
       "      <th>Store</th>\n",
       "      <th>City</th>\n",
       "      <th>Brand</th>\n",
       "      <th>Description</th>\n",
       "      <th>Size in ml</th>\n",
       "      <th>onHand</th>\n",
       "      <th>Price</th>\n",
       "      <th>endDate</th>\n",
       "      <th>startDate</th>\n",
       "    </tr>\n",
       "  </thead>\n",
       "  <tbody>\n",
       "    <tr>\n",
       "      <th>0</th>\n",
       "      <td>1_HARDERSFIELD_58</td>\n",
       "      <td>1</td>\n",
       "      <td>HARDERSFIELD</td>\n",
       "      <td>58</td>\n",
       "      <td>Gekkeikan Black &amp; Gold Sake</td>\n",
       "      <td>750.0</td>\n",
       "      <td>11</td>\n",
       "      <td>12.99</td>\n",
       "      <td>2024-12-31</td>\n",
       "      <td>2024-12-31</td>\n",
       "    </tr>\n",
       "    <tr>\n",
       "      <th>1</th>\n",
       "      <td>1_HARDERSFIELD_62</td>\n",
       "      <td>1</td>\n",
       "      <td>HARDERSFIELD</td>\n",
       "      <td>62</td>\n",
       "      <td>Herradura Silver Tequila</td>\n",
       "      <td>750.0</td>\n",
       "      <td>7</td>\n",
       "      <td>36.99</td>\n",
       "      <td>2024-12-31</td>\n",
       "      <td>2024-12-31</td>\n",
       "    </tr>\n",
       "    <tr>\n",
       "      <th>2</th>\n",
       "      <td>1_HARDERSFIELD_63</td>\n",
       "      <td>1</td>\n",
       "      <td>HARDERSFIELD</td>\n",
       "      <td>63</td>\n",
       "      <td>Herradura Reposado Tequila</td>\n",
       "      <td>750.0</td>\n",
       "      <td>7</td>\n",
       "      <td>38.99</td>\n",
       "      <td>2024-12-31</td>\n",
       "      <td>2024-12-31</td>\n",
       "    </tr>\n",
       "    <tr>\n",
       "      <th>3</th>\n",
       "      <td>1_HARDERSFIELD_72</td>\n",
       "      <td>1</td>\n",
       "      <td>HARDERSFIELD</td>\n",
       "      <td>72</td>\n",
       "      <td>No. 3 London Dry Gin</td>\n",
       "      <td>750.0</td>\n",
       "      <td>4</td>\n",
       "      <td>34.99</td>\n",
       "      <td>2024-12-31</td>\n",
       "      <td>2024-12-31</td>\n",
       "    </tr>\n",
       "    <tr>\n",
       "      <th>4</th>\n",
       "      <td>1_HARDERSFIELD_75</td>\n",
       "      <td>1</td>\n",
       "      <td>HARDERSFIELD</td>\n",
       "      <td>75</td>\n",
       "      <td>Three Olives Tomato Vodka</td>\n",
       "      <td>750.0</td>\n",
       "      <td>7</td>\n",
       "      <td>14.99</td>\n",
       "      <td>2024-12-31</td>\n",
       "      <td>2024-12-31</td>\n",
       "    </tr>\n",
       "    <tr>\n",
       "      <th>...</th>\n",
       "      <td>...</td>\n",
       "      <td>...</td>\n",
       "      <td>...</td>\n",
       "      <td>...</td>\n",
       "      <td>...</td>\n",
       "      <td>...</td>\n",
       "      <td>...</td>\n",
       "      <td>...</td>\n",
       "      <td>...</td>\n",
       "      <td>...</td>\n",
       "    </tr>\n",
       "    <tr>\n",
       "      <th>224484</th>\n",
       "      <td>81_PEMBROKE_90087</td>\n",
       "      <td>81</td>\n",
       "      <td>PEMBROKE</td>\n",
       "      <td>90087</td>\n",
       "      <td>Ch Mouton Rothschild 12 Paui</td>\n",
       "      <td>750.0</td>\n",
       "      <td>3</td>\n",
       "      <td>469.99</td>\n",
       "      <td>2024-12-31</td>\n",
       "      <td>2024-12-31</td>\n",
       "    </tr>\n",
       "    <tr>\n",
       "      <th>224485</th>\n",
       "      <td>81_PEMBROKE_90088</td>\n",
       "      <td>81</td>\n",
       "      <td>PEMBROKE</td>\n",
       "      <td>90088</td>\n",
       "      <td>Ch Le Petite Mouton 12 Pauil</td>\n",
       "      <td>750.0</td>\n",
       "      <td>3</td>\n",
       "      <td>134.99</td>\n",
       "      <td>2024-12-31</td>\n",
       "      <td>2024-12-31</td>\n",
       "    </tr>\n",
       "    <tr>\n",
       "      <th>224486</th>\n",
       "      <td>81_PEMBROKE_90089</td>\n",
       "      <td>81</td>\n",
       "      <td>PEMBROKE</td>\n",
       "      <td>90089</td>\n",
       "      <td>Ch Lynch Bages 12 Pauillac</td>\n",
       "      <td>750.0</td>\n",
       "      <td>3</td>\n",
       "      <td>119.99</td>\n",
       "      <td>2024-12-31</td>\n",
       "      <td>2024-12-31</td>\n",
       "    </tr>\n",
       "    <tr>\n",
       "      <th>224487</th>\n",
       "      <td>81_PEMBROKE_90090</td>\n",
       "      <td>81</td>\n",
       "      <td>PEMBROKE</td>\n",
       "      <td>90090</td>\n",
       "      <td>Ch Lafite Rothschild 12</td>\n",
       "      <td>750.0</td>\n",
       "      <td>3</td>\n",
       "      <td>649.99</td>\n",
       "      <td>2024-12-31</td>\n",
       "      <td>2024-12-31</td>\n",
       "    </tr>\n",
       "    <tr>\n",
       "      <th>224488</th>\n",
       "      <td>81_PEMBROKE_90604</td>\n",
       "      <td>81</td>\n",
       "      <td>PEMBROKE</td>\n",
       "      <td>90604</td>\n",
       "      <td>Ch Lynch Bages Pauilac</td>\n",
       "      <td>750.0</td>\n",
       "      <td>2</td>\n",
       "      <td>119.99</td>\n",
       "      <td>2024-12-31</td>\n",
       "      <td>2024-12-31</td>\n",
       "    </tr>\n",
       "  </tbody>\n",
       "</table>\n",
       "<p>224489 rows × 10 columns</p>\n",
       "</div>"
      ],
      "text/plain": [
       "              InventoryId  Store          City  Brand  \\\n",
       "0       1_HARDERSFIELD_58      1  HARDERSFIELD     58   \n",
       "1       1_HARDERSFIELD_62      1  HARDERSFIELD     62   \n",
       "2       1_HARDERSFIELD_63      1  HARDERSFIELD     63   \n",
       "3       1_HARDERSFIELD_72      1  HARDERSFIELD     72   \n",
       "4       1_HARDERSFIELD_75      1  HARDERSFIELD     75   \n",
       "...                   ...    ...           ...    ...   \n",
       "224484  81_PEMBROKE_90087     81      PEMBROKE  90087   \n",
       "224485  81_PEMBROKE_90088     81      PEMBROKE  90088   \n",
       "224486  81_PEMBROKE_90089     81      PEMBROKE  90089   \n",
       "224487  81_PEMBROKE_90090     81      PEMBROKE  90090   \n",
       "224488  81_PEMBROKE_90604     81      PEMBROKE  90604   \n",
       "\n",
       "                         Description  Size in ml  onHand   Price     endDate  \\\n",
       "0        Gekkeikan Black & Gold Sake       750.0      11   12.99  2024-12-31   \n",
       "1           Herradura Silver Tequila       750.0       7   36.99  2024-12-31   \n",
       "2         Herradura Reposado Tequila       750.0       7   38.99  2024-12-31   \n",
       "3               No. 3 London Dry Gin       750.0       4   34.99  2024-12-31   \n",
       "4          Three Olives Tomato Vodka       750.0       7   14.99  2024-12-31   \n",
       "...                              ...         ...     ...     ...         ...   \n",
       "224484  Ch Mouton Rothschild 12 Paui       750.0       3  469.99  2024-12-31   \n",
       "224485  Ch Le Petite Mouton 12 Pauil       750.0       3  134.99  2024-12-31   \n",
       "224486    Ch Lynch Bages 12 Pauillac       750.0       3  119.99  2024-12-31   \n",
       "224487       Ch Lafite Rothschild 12       750.0       3  649.99  2024-12-31   \n",
       "224488        Ch Lynch Bages Pauilac       750.0       2  119.99  2024-12-31   \n",
       "\n",
       "         startDate  \n",
       "0       2024-12-31  \n",
       "1       2024-12-31  \n",
       "2       2024-12-31  \n",
       "3       2024-12-31  \n",
       "4       2024-12-31  \n",
       "...            ...  \n",
       "224484  2024-12-31  \n",
       "224485  2024-12-31  \n",
       "224486  2024-12-31  \n",
       "224487  2024-12-31  \n",
       "224488  2024-12-31  \n",
       "\n",
       "[224489 rows x 10 columns]"
      ]
     },
     "execution_count": 85,
     "metadata": {},
     "output_type": "execute_result"
    }
   ],
   "source": [
    "End_Inventory"
   ]
  },
  {
   "cell_type": "code",
   "execution_count": null,
   "id": "cbb44599-5b05-49c9-afc2-494185451cf4",
   "metadata": {},
   "outputs": [],
   "source": []
  },
  {
   "cell_type": "code",
   "execution_count": null,
   "id": "93e63766-5bc0-48d1-9d45-9a123ec55376",
   "metadata": {},
   "outputs": [],
   "source": []
  }
 ],
 "metadata": {
  "kernelspec": {
   "display_name": "Python 3 (ipykernel)",
   "language": "python",
   "name": "python3"
  },
  "language_info": {
   "codemirror_mode": {
    "name": "ipython",
    "version": 3
   },
   "file_extension": ".py",
   "mimetype": "text/x-python",
   "name": "python",
   "nbconvert_exporter": "python",
   "pygments_lexer": "ipython3",
   "version": "3.13.2"
  }
 },
 "nbformat": 4,
 "nbformat_minor": 5
}
