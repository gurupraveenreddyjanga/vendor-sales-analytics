{
 "cells": [
  {
   "cell_type": "code",
   "execution_count": 1,
   "id": "c1ae875b-fc1c-4d94-ab9b-b9d0bb5feb27",
   "metadata": {},
   "outputs": [],
   "source": [
    "import pandas as pd\n",
    "import numpy as np"
   ]
  },
  {
   "cell_type": "code",
   "execution_count": 2,
   "id": "0b706dc4-bb59-47e8-b294-ea594704bf3b",
   "metadata": {},
   "outputs": [],
   "source": [
    "Purchase_price_info=pd.read_csv(r\"C:\\Users\\GURU PRAVEEN REDDY J\\Desktop\\Datasets\\Vendor Data Project Datasets\\data\\purchase_prices.csv\")"
   ]
  },
  {
   "cell_type": "code",
   "execution_count": 3,
   "id": "1928dcf7-4b1d-4e8f-bcfc-bb524df900f8",
   "metadata": {},
   "outputs": [
    {
     "name": "stdout",
     "output_type": "stream",
     "text": [
      "<class 'pandas.core.frame.DataFrame'>\n",
      "RangeIndex: 12261 entries, 0 to 12260\n",
      "Data columns (total 9 columns):\n",
      " #   Column          Non-Null Count  Dtype  \n",
      "---  ------          --------------  -----  \n",
      " 0   Brand           12261 non-null  int64  \n",
      " 1   Description     12260 non-null  object \n",
      " 2   Price           12261 non-null  float64\n",
      " 3   Size            12260 non-null  object \n",
      " 4   Volume          12260 non-null  object \n",
      " 5   Classification  12261 non-null  int64  \n",
      " 6   PurchasePrice   12261 non-null  float64\n",
      " 7   VendorNumber    12261 non-null  int64  \n",
      " 8   VendorName      12261 non-null  object \n",
      "dtypes: float64(2), int64(3), object(4)\n",
      "memory usage: 862.2+ KB\n"
     ]
    }
   ],
   "source": [
    "Purchase_price_info.info()"
   ]
  },
  {
   "cell_type": "code",
   "execution_count": 4,
   "id": "dd89266c-4667-48e3-a028-44d6e97193b3",
   "metadata": {},
   "outputs": [
    {
     "data": {
      "text/html": [
       "<div>\n",
       "<style scoped>\n",
       "    .dataframe tbody tr th:only-of-type {\n",
       "        vertical-align: middle;\n",
       "    }\n",
       "\n",
       "    .dataframe tbody tr th {\n",
       "        vertical-align: top;\n",
       "    }\n",
       "\n",
       "    .dataframe thead th {\n",
       "        text-align: right;\n",
       "    }\n",
       "</style>\n",
       "<table border=\"1\" class=\"dataframe\">\n",
       "  <thead>\n",
       "    <tr style=\"text-align: right;\">\n",
       "      <th></th>\n",
       "      <th>Brand</th>\n",
       "      <th>Description</th>\n",
       "      <th>Price</th>\n",
       "      <th>Size</th>\n",
       "      <th>Volume</th>\n",
       "      <th>Classification</th>\n",
       "      <th>PurchasePrice</th>\n",
       "      <th>VendorNumber</th>\n",
       "      <th>VendorName</th>\n",
       "    </tr>\n",
       "  </thead>\n",
       "  <tbody>\n",
       "    <tr>\n",
       "      <th>11488</th>\n",
       "      <td>26204</td>\n",
       "      <td>Dom de La Foret 15 Rose</td>\n",
       "      <td>14.99</td>\n",
       "      <td>750mL</td>\n",
       "      <td>750</td>\n",
       "      <td>2</td>\n",
       "      <td>9.99</td>\n",
       "      <td>7153</td>\n",
       "      <td>PINE STATE TRADING CO</td>\n",
       "    </tr>\n",
       "    <tr>\n",
       "      <th>10546</th>\n",
       "      <td>1079</td>\n",
       "      <td>Weller Antique -Hanover Chop</td>\n",
       "      <td>22.99</td>\n",
       "      <td>750mL</td>\n",
       "      <td>750</td>\n",
       "      <td>1</td>\n",
       "      <td>18.39</td>\n",
       "      <td>8004</td>\n",
       "      <td>SAZERAC CO INC</td>\n",
       "    </tr>\n",
       "    <tr>\n",
       "      <th>8002</th>\n",
       "      <td>18831</td>\n",
       "      <td>Line 39 Merlot</td>\n",
       "      <td>9.99</td>\n",
       "      <td>750mL</td>\n",
       "      <td>750</td>\n",
       "      <td>2</td>\n",
       "      <td>5.26</td>\n",
       "      <td>7153</td>\n",
       "      <td>PINE STATE TRADING CO</td>\n",
       "    </tr>\n",
       "    <tr>\n",
       "      <th>57</th>\n",
       "      <td>605</td>\n",
       "      <td>Alate Kosher Wine</td>\n",
       "      <td>16.99</td>\n",
       "      <td>750mL</td>\n",
       "      <td>750</td>\n",
       "      <td>2</td>\n",
       "      <td>9.67</td>\n",
       "      <td>10754</td>\n",
       "      <td>PERFECTA WINES</td>\n",
       "    </tr>\n",
       "    <tr>\n",
       "      <th>6278</th>\n",
       "      <td>20963</td>\n",
       "      <td>Stags Leap Hands of Time Chr</td>\n",
       "      <td>16.99</td>\n",
       "      <td>750mL</td>\n",
       "      <td>750</td>\n",
       "      <td>2</td>\n",
       "      <td>10.96</td>\n",
       "      <td>8673</td>\n",
       "      <td>STE MICHELLE WINE ESTATES</td>\n",
       "    </tr>\n",
       "  </tbody>\n",
       "</table>\n",
       "</div>"
      ],
      "text/plain": [
       "       Brand                   Description  Price   Size Volume  \\\n",
       "11488  26204       Dom de La Foret 15 Rose  14.99  750mL    750   \n",
       "10546   1079  Weller Antique -Hanover Chop  22.99  750mL    750   \n",
       "8002   18831                Line 39 Merlot   9.99  750mL    750   \n",
       "57       605             Alate Kosher Wine  16.99  750mL    750   \n",
       "6278   20963  Stags Leap Hands of Time Chr  16.99  750mL    750   \n",
       "\n",
       "       Classification  PurchasePrice  VendorNumber  \\\n",
       "11488               2           9.99          7153   \n",
       "10546               1          18.39          8004   \n",
       "8002                2           5.26          7153   \n",
       "57                  2           9.67         10754   \n",
       "6278                2          10.96          8673   \n",
       "\n",
       "                        VendorName  \n",
       "11488  PINE STATE TRADING CO        \n",
       "10546  SAZERAC CO INC               \n",
       "8002   PINE STATE TRADING CO        \n",
       "57     PERFECTA WINES               \n",
       "6278   STE MICHELLE WINE ESTATES    "
      ]
     },
     "execution_count": 4,
     "metadata": {},
     "output_type": "execute_result"
    }
   ],
   "source": [
    "Purchase_price_info.sample(5)"
   ]
  },
  {
   "cell_type": "code",
   "execution_count": 5,
   "id": "74aa10bf-367e-41a5-8187-0b720c26cfde",
   "metadata": {},
   "outputs": [],
   "source": [
    "Purchase_price_info.drop(columns=[\"Classification\"],inplace=True)"
   ]
  },
  {
   "cell_type": "code",
   "execution_count": 6,
   "id": "2b31b4e5-adb0-47ae-be59-ee6955f51396",
   "metadata": {},
   "outputs": [
    {
     "data": {
      "text/plain": [
       "12261"
      ]
     },
     "execution_count": 6,
     "metadata": {},
     "output_type": "execute_result"
    }
   ],
   "source": [
    "Purchase_price_info[\"Brand\"].nunique()"
   ]
  },
  {
   "cell_type": "code",
   "execution_count": 7,
   "id": "3290adeb-110f-4b1d-9a85-21d860bc2d24",
   "metadata": {},
   "outputs": [],
   "source": [
    "### in this data we can understand by this all brandas are unique its pirce and description details in the dataset"
   ]
  },
  {
   "cell_type": "code",
   "execution_count": 8,
   "id": "970a7ab7-0f63-47af-8ac2-25157383dc10",
   "metadata": {},
   "outputs": [
    {
     "data": {
      "text/plain": [
       "Brand            0\n",
       "Description      1\n",
       "Price            0\n",
       "Size             1\n",
       "Volume           1\n",
       "PurchasePrice    0\n",
       "VendorNumber     0\n",
       "VendorName       0\n",
       "dtype: int64"
      ]
     },
     "execution_count": 8,
     "metadata": {},
     "output_type": "execute_result"
    }
   ],
   "source": [
    "Purchase_price_info.isnull().sum()"
   ]
  },
  {
   "cell_type": "code",
   "execution_count": 9,
   "id": "6ec4bc7b-59be-4000-854a-aa83af36c8a8",
   "metadata": {},
   "outputs": [
    {
     "data": {
      "text/html": [
       "<div>\n",
       "<style scoped>\n",
       "    .dataframe tbody tr th:only-of-type {\n",
       "        vertical-align: middle;\n",
       "    }\n",
       "\n",
       "    .dataframe tbody tr th {\n",
       "        vertical-align: top;\n",
       "    }\n",
       "\n",
       "    .dataframe thead th {\n",
       "        text-align: right;\n",
       "    }\n",
       "</style>\n",
       "<table border=\"1\" class=\"dataframe\">\n",
       "  <thead>\n",
       "    <tr style=\"text-align: right;\">\n",
       "      <th></th>\n",
       "      <th>Brand</th>\n",
       "      <th>Description</th>\n",
       "      <th>Price</th>\n",
       "      <th>Size</th>\n",
       "      <th>Volume</th>\n",
       "      <th>PurchasePrice</th>\n",
       "      <th>VendorNumber</th>\n",
       "      <th>VendorName</th>\n",
       "    </tr>\n",
       "  </thead>\n",
       "  <tbody>\n",
       "    <tr>\n",
       "      <th>7915</th>\n",
       "      <td>4202</td>\n",
       "      <td>NaN</td>\n",
       "      <td>0.0</td>\n",
       "      <td>NaN</td>\n",
       "      <td>NaN</td>\n",
       "      <td>11.19</td>\n",
       "      <td>480</td>\n",
       "      <td>BACARDI USA INC</td>\n",
       "    </tr>\n",
       "  </tbody>\n",
       "</table>\n",
       "</div>"
      ],
      "text/plain": [
       "      Brand Description  Price Size Volume  PurchasePrice  VendorNumber  \\\n",
       "7915   4202         NaN    0.0  NaN    NaN          11.19           480   \n",
       "\n",
       "                       VendorName  \n",
       "7915  BACARDI USA INC              "
      ]
     },
     "execution_count": 9,
     "metadata": {},
     "output_type": "execute_result"
    }
   ],
   "source": [
    "Purchase_price_info[Purchase_price_info[\"Description\"].str.strip()!=Purchase_price_info[\"Description\"]]"
   ]
  },
  {
   "cell_type": "code",
   "execution_count": 10,
   "id": "4aed0d71-b8b1-4c71-bc3e-667759b76a2e",
   "metadata": {},
   "outputs": [],
   "source": [
    "Purchase_price_info.dropna(inplace=True) ### i ahev dropped nan values from dataset and i have only one row which have nan values"
   ]
  },
  {
   "cell_type": "code",
   "execution_count": 11,
   "id": "2a498973-86da-462f-adbf-1a8c3f55c79d",
   "metadata": {},
   "outputs": [
    {
     "data": {
      "text/html": [
       "<div>\n",
       "<style scoped>\n",
       "    .dataframe tbody tr th:only-of-type {\n",
       "        vertical-align: middle;\n",
       "    }\n",
       "\n",
       "    .dataframe tbody tr th {\n",
       "        vertical-align: top;\n",
       "    }\n",
       "\n",
       "    .dataframe thead th {\n",
       "        text-align: right;\n",
       "    }\n",
       "</style>\n",
       "<table border=\"1\" class=\"dataframe\">\n",
       "  <thead>\n",
       "    <tr style=\"text-align: right;\">\n",
       "      <th></th>\n",
       "      <th>Brand</th>\n",
       "      <th>Description</th>\n",
       "      <th>Price</th>\n",
       "      <th>Size</th>\n",
       "      <th>Volume</th>\n",
       "      <th>PurchasePrice</th>\n",
       "      <th>VendorNumber</th>\n",
       "      <th>VendorName</th>\n",
       "    </tr>\n",
       "  </thead>\n",
       "  <tbody>\n",
       "  </tbody>\n",
       "</table>\n",
       "</div>"
      ],
      "text/plain": [
       "Empty DataFrame\n",
       "Columns: [Brand, Description, Price, Size, Volume, PurchasePrice, VendorNumber, VendorName]\n",
       "Index: []"
      ]
     },
     "execution_count": 11,
     "metadata": {},
     "output_type": "execute_result"
    }
   ],
   "source": [
    "Purchase_price_info[Purchase_price_info[\"Description\"].str.strip()!=Purchase_price_info[\"Description\"]]"
   ]
  },
  {
   "cell_type": "code",
   "execution_count": 12,
   "id": "b1274b4f-e3aa-40d6-a20a-5ad87749b14f",
   "metadata": {},
   "outputs": [
    {
     "data": {
      "text/html": [
       "<div>\n",
       "<style scoped>\n",
       "    .dataframe tbody tr th:only-of-type {\n",
       "        vertical-align: middle;\n",
       "    }\n",
       "\n",
       "    .dataframe tbody tr th {\n",
       "        vertical-align: top;\n",
       "    }\n",
       "\n",
       "    .dataframe thead th {\n",
       "        text-align: right;\n",
       "    }\n",
       "</style>\n",
       "<table border=\"1\" class=\"dataframe\">\n",
       "  <thead>\n",
       "    <tr style=\"text-align: right;\">\n",
       "      <th></th>\n",
       "      <th>Brand</th>\n",
       "      <th>Description</th>\n",
       "      <th>Price</th>\n",
       "      <th>Size</th>\n",
       "      <th>Volume</th>\n",
       "      <th>PurchasePrice</th>\n",
       "      <th>VendorNumber</th>\n",
       "      <th>VendorName</th>\n",
       "    </tr>\n",
       "  </thead>\n",
       "  <tbody>\n",
       "    <tr>\n",
       "      <th>10803</th>\n",
       "      <td>2166</td>\n",
       "      <td>The Macallan Double Cask 12</td>\n",
       "      <td>0.0</td>\n",
       "      <td>750mL</td>\n",
       "      <td>750</td>\n",
       "      <td>0.0</td>\n",
       "      <td>2561</td>\n",
       "      <td>EDRINGTON AMERICAS</td>\n",
       "    </tr>\n",
       "  </tbody>\n",
       "</table>\n",
       "</div>"
      ],
      "text/plain": [
       "       Brand                  Description  Price   Size Volume  PurchasePrice  \\\n",
       "10803   2166  The Macallan Double Cask 12    0.0  750mL    750            0.0   \n",
       "\n",
       "       VendorNumber                   VendorName  \n",
       "10803          2561  EDRINGTON AMERICAS           "
      ]
     },
     "execution_count": 12,
     "metadata": {},
     "output_type": "execute_result"
    }
   ],
   "source": [
    "Purchase_price_info[(Purchase_price_info[\"Price\"]==0) | (Purchase_price_info[\"Price\"]<0)]"
   ]
  },
  {
   "cell_type": "code",
   "execution_count": 13,
   "id": "cfcb2a23-5b02-407f-b9e8-25a1dbecf299",
   "metadata": {},
   "outputs": [],
   "source": [
    "Purchase_price_info.drop(index=Purchase_price_info[(Purchase_price_info[\"Price\"]==0) | (Purchase_price_info[\"Price\"]<0)].index,inplace=True)\n",
    "### i have dropped all brands which has price 0 or less than 0 "
   ]
  },
  {
   "cell_type": "code",
   "execution_count": 14,
   "id": "3bcb69db-8554-4258-9ad2-567766b8fd45",
   "metadata": {},
   "outputs": [
    {
     "data": {
      "text/html": [
       "<div>\n",
       "<style scoped>\n",
       "    .dataframe tbody tr th:only-of-type {\n",
       "        vertical-align: middle;\n",
       "    }\n",
       "\n",
       "    .dataframe tbody tr th {\n",
       "        vertical-align: top;\n",
       "    }\n",
       "\n",
       "    .dataframe thead th {\n",
       "        text-align: right;\n",
       "    }\n",
       "</style>\n",
       "<table border=\"1\" class=\"dataframe\">\n",
       "  <thead>\n",
       "    <tr style=\"text-align: right;\">\n",
       "      <th></th>\n",
       "      <th>Brand</th>\n",
       "      <th>Description</th>\n",
       "      <th>Price</th>\n",
       "      <th>Size</th>\n",
       "      <th>Volume</th>\n",
       "      <th>PurchasePrice</th>\n",
       "      <th>VendorNumber</th>\n",
       "      <th>VendorName</th>\n",
       "    </tr>\n",
       "  </thead>\n",
       "  <tbody>\n",
       "  </tbody>\n",
       "</table>\n",
       "</div>"
      ],
      "text/plain": [
       "Empty DataFrame\n",
       "Columns: [Brand, Description, Price, Size, Volume, PurchasePrice, VendorNumber, VendorName]\n",
       "Index: []"
      ]
     },
     "execution_count": 14,
     "metadata": {},
     "output_type": "execute_result"
    }
   ],
   "source": [
    "Purchase_price_info[(Purchase_price_info[\"Price\"]==0) | (Purchase_price_info[\"Price\"]<0)]"
   ]
  },
  {
   "cell_type": "code",
   "execution_count": 15,
   "id": "4e76c8ff-297a-4111-8f9e-07433931b6cf",
   "metadata": {},
   "outputs": [
    {
     "data": {
      "text/html": [
       "<div>\n",
       "<style scoped>\n",
       "    .dataframe tbody tr th:only-of-type {\n",
       "        vertical-align: middle;\n",
       "    }\n",
       "\n",
       "    .dataframe tbody tr th {\n",
       "        vertical-align: top;\n",
       "    }\n",
       "\n",
       "    .dataframe thead th {\n",
       "        text-align: right;\n",
       "    }\n",
       "</style>\n",
       "<table border=\"1\" class=\"dataframe\">\n",
       "  <thead>\n",
       "    <tr style=\"text-align: right;\">\n",
       "      <th></th>\n",
       "      <th>Brand</th>\n",
       "      <th>Description</th>\n",
       "      <th>Price</th>\n",
       "      <th>Size</th>\n",
       "      <th>Volume</th>\n",
       "      <th>PurchasePrice</th>\n",
       "      <th>VendorNumber</th>\n",
       "      <th>VendorName</th>\n",
       "    </tr>\n",
       "  </thead>\n",
       "  <tbody>\n",
       "    <tr>\n",
       "      <th>0</th>\n",
       "      <td>58</td>\n",
       "      <td>Gekkeikan Black &amp; Gold Sake</td>\n",
       "      <td>12.99</td>\n",
       "      <td>750mL</td>\n",
       "      <td>750</td>\n",
       "      <td>9.28</td>\n",
       "      <td>8320</td>\n",
       "      <td>SHAW ROSS INT L IMP LTD</td>\n",
       "    </tr>\n",
       "    <tr>\n",
       "      <th>1</th>\n",
       "      <td>62</td>\n",
       "      <td>Herradura Silver Tequila</td>\n",
       "      <td>36.99</td>\n",
       "      <td>750mL</td>\n",
       "      <td>750</td>\n",
       "      <td>28.67</td>\n",
       "      <td>1128</td>\n",
       "      <td>BROWN-FORMAN CORP</td>\n",
       "    </tr>\n",
       "    <tr>\n",
       "      <th>2</th>\n",
       "      <td>63</td>\n",
       "      <td>Herradura Reposado Tequila</td>\n",
       "      <td>38.99</td>\n",
       "      <td>750mL</td>\n",
       "      <td>750</td>\n",
       "      <td>30.46</td>\n",
       "      <td>1128</td>\n",
       "      <td>BROWN-FORMAN CORP</td>\n",
       "    </tr>\n",
       "    <tr>\n",
       "      <th>3</th>\n",
       "      <td>72</td>\n",
       "      <td>No. 3 London Dry Gin</td>\n",
       "      <td>34.99</td>\n",
       "      <td>750mL</td>\n",
       "      <td>750</td>\n",
       "      <td>26.11</td>\n",
       "      <td>9165</td>\n",
       "      <td>ULTRA BEVERAGE COMPANY LLP</td>\n",
       "    </tr>\n",
       "    <tr>\n",
       "      <th>4</th>\n",
       "      <td>75</td>\n",
       "      <td>Three Olives Tomato Vodka</td>\n",
       "      <td>14.99</td>\n",
       "      <td>750mL</td>\n",
       "      <td>750</td>\n",
       "      <td>10.94</td>\n",
       "      <td>7245</td>\n",
       "      <td>PROXIMO SPIRITS INC.</td>\n",
       "    </tr>\n",
       "    <tr>\n",
       "      <th>...</th>\n",
       "      <td>...</td>\n",
       "      <td>...</td>\n",
       "      <td>...</td>\n",
       "      <td>...</td>\n",
       "      <td>...</td>\n",
       "      <td>...</td>\n",
       "      <td>...</td>\n",
       "      <td>...</td>\n",
       "    </tr>\n",
       "    <tr>\n",
       "      <th>12255</th>\n",
       "      <td>43023</td>\n",
       "      <td>Ceretto Barolo</td>\n",
       "      <td>39.99</td>\n",
       "      <td>750mL</td>\n",
       "      <td>750</td>\n",
       "      <td>26.66</td>\n",
       "      <td>2000</td>\n",
       "      <td>SOUTHERN WINE &amp; SPIRITS NE</td>\n",
       "    </tr>\n",
       "    <tr>\n",
       "      <th>12256</th>\n",
       "      <td>44917</td>\n",
       "      <td>Ferreira 10-Yr Tawny Port</td>\n",
       "      <td>24.99</td>\n",
       "      <td>750mL</td>\n",
       "      <td>750</td>\n",
       "      <td>16.55</td>\n",
       "      <td>90024</td>\n",
       "      <td>VINILANDIA USA</td>\n",
       "    </tr>\n",
       "    <tr>\n",
       "      <th>12258</th>\n",
       "      <td>45016</td>\n",
       "      <td>Neal One Lane Bridg Cab Svgn</td>\n",
       "      <td>93.99</td>\n",
       "      <td>750mL</td>\n",
       "      <td>750</td>\n",
       "      <td>61.43</td>\n",
       "      <td>10754</td>\n",
       "      <td>PERFECTA WINES</td>\n",
       "    </tr>\n",
       "    <tr>\n",
       "      <th>12259</th>\n",
       "      <td>46011</td>\n",
       "      <td>Folonari Pnt Nr Venezie</td>\n",
       "      <td>12.99</td>\n",
       "      <td>1500ml</td>\n",
       "      <td>1500</td>\n",
       "      <td>8.90</td>\n",
       "      <td>9744</td>\n",
       "      <td>FREDERICK WILDMAN &amp; SONS</td>\n",
       "    </tr>\n",
       "    <tr>\n",
       "      <th>12260</th>\n",
       "      <td>46964</td>\n",
       "      <td>Calera Viognier Mt Harlan</td>\n",
       "      <td>35.99</td>\n",
       "      <td>750mL</td>\n",
       "      <td>750</td>\n",
       "      <td>24.32</td>\n",
       "      <td>10754</td>\n",
       "      <td>PERFECTA WINES</td>\n",
       "    </tr>\n",
       "  </tbody>\n",
       "</table>\n",
       "<p>10405 rows × 8 columns</p>\n",
       "</div>"
      ],
      "text/plain": [
       "       Brand                   Description  Price    Size Volume  \\\n",
       "0         58   Gekkeikan Black & Gold Sake  12.99   750mL    750   \n",
       "1         62      Herradura Silver Tequila  36.99   750mL    750   \n",
       "2         63    Herradura Reposado Tequila  38.99   750mL    750   \n",
       "3         72          No. 3 London Dry Gin  34.99   750mL    750   \n",
       "4         75     Three Olives Tomato Vodka  14.99   750mL    750   \n",
       "...      ...                           ...    ...     ...    ...   \n",
       "12255  43023                Ceretto Barolo  39.99   750mL    750   \n",
       "12256  44917     Ferreira 10-Yr Tawny Port  24.99   750mL    750   \n",
       "12258  45016  Neal One Lane Bridg Cab Svgn  93.99   750mL    750   \n",
       "12259  46011       Folonari Pnt Nr Venezie  12.99  1500ml   1500   \n",
       "12260  46964     Calera Viognier Mt Harlan  35.99   750mL    750   \n",
       "\n",
       "       PurchasePrice  VendorNumber                   VendorName  \n",
       "0               9.28          8320  SHAW ROSS INT L IMP LTD      \n",
       "1              28.67          1128  BROWN-FORMAN CORP            \n",
       "2              30.46          1128  BROWN-FORMAN CORP            \n",
       "3              26.11          9165  ULTRA BEVERAGE COMPANY LLP   \n",
       "4              10.94          7245  PROXIMO SPIRITS INC.         \n",
       "...              ...           ...                          ...  \n",
       "12255          26.66          2000  SOUTHERN WINE & SPIRITS NE   \n",
       "12256          16.55         90024  VINILANDIA USA               \n",
       "12258          61.43         10754  PERFECTA WINES               \n",
       "12259           8.90          9744  FREDERICK WILDMAN & SONS     \n",
       "12260          24.32         10754  PERFECTA WINES               \n",
       "\n",
       "[10405 rows x 8 columns]"
      ]
     },
     "execution_count": 15,
     "metadata": {},
     "output_type": "execute_result"
    }
   ],
   "source": [
    "Purchase_price_info[Purchase_price_info[\"VendorName\"]!=Purchase_price_info[\"VendorName\"].str.strip()]"
   ]
  },
  {
   "cell_type": "code",
   "execution_count": 16,
   "id": "976cd218-41e6-4880-a01a-822ee09bf71c",
   "metadata": {},
   "outputs": [],
   "source": [
    "### In Vendroname column there are whitespace in the name... I am gonna drop using str.strip() function"
   ]
  },
  {
   "cell_type": "code",
   "execution_count": 17,
   "id": "3eaedc79-d3d3-405d-97b2-d3a1ed8ff404",
   "metadata": {},
   "outputs": [],
   "source": [
    "Purchase_price_info[\"VendorName\"]=Purchase_price_info[\"VendorName\"].str.strip()"
   ]
  },
  {
   "cell_type": "code",
   "execution_count": 18,
   "id": "a6059395-7485-41d8-b078-7f268c97cda3",
   "metadata": {},
   "outputs": [
    {
     "data": {
      "text/html": [
       "<div>\n",
       "<style scoped>\n",
       "    .dataframe tbody tr th:only-of-type {\n",
       "        vertical-align: middle;\n",
       "    }\n",
       "\n",
       "    .dataframe tbody tr th {\n",
       "        vertical-align: top;\n",
       "    }\n",
       "\n",
       "    .dataframe thead th {\n",
       "        text-align: right;\n",
       "    }\n",
       "</style>\n",
       "<table border=\"1\" class=\"dataframe\">\n",
       "  <thead>\n",
       "    <tr style=\"text-align: right;\">\n",
       "      <th></th>\n",
       "      <th>Brand</th>\n",
       "      <th>Description</th>\n",
       "      <th>Price</th>\n",
       "      <th>Size</th>\n",
       "      <th>Volume</th>\n",
       "      <th>PurchasePrice</th>\n",
       "      <th>VendorNumber</th>\n",
       "      <th>VendorName</th>\n",
       "    </tr>\n",
       "  </thead>\n",
       "  <tbody>\n",
       "  </tbody>\n",
       "</table>\n",
       "</div>"
      ],
      "text/plain": [
       "Empty DataFrame\n",
       "Columns: [Brand, Description, Price, Size, Volume, PurchasePrice, VendorNumber, VendorName]\n",
       "Index: []"
      ]
     },
     "execution_count": 18,
     "metadata": {},
     "output_type": "execute_result"
    }
   ],
   "source": [
    "Purchase_price_info[Purchase_price_info[\"VendorName\"]!=Purchase_price_info[\"VendorName\"].str.strip()]"
   ]
  },
  {
   "cell_type": "markdown",
   "id": "cd538739-ab71-4198-9260-16f84f9c67b6",
   "metadata": {},
   "source": [
    "### Final Data"
   ]
  },
  {
   "cell_type": "code",
   "execution_count": 19,
   "id": "0094d8aa-42cb-4a58-add8-a5c580b13f95",
   "metadata": {},
   "outputs": [
    {
     "data": {
      "text/html": [
       "<div>\n",
       "<style scoped>\n",
       "    .dataframe tbody tr th:only-of-type {\n",
       "        vertical-align: middle;\n",
       "    }\n",
       "\n",
       "    .dataframe tbody tr th {\n",
       "        vertical-align: top;\n",
       "    }\n",
       "\n",
       "    .dataframe thead th {\n",
       "        text-align: right;\n",
       "    }\n",
       "</style>\n",
       "<table border=\"1\" class=\"dataframe\">\n",
       "  <thead>\n",
       "    <tr style=\"text-align: right;\">\n",
       "      <th></th>\n",
       "      <th>Brand</th>\n",
       "      <th>Description</th>\n",
       "      <th>Price</th>\n",
       "      <th>Size</th>\n",
       "      <th>Volume</th>\n",
       "      <th>PurchasePrice</th>\n",
       "      <th>VendorNumber</th>\n",
       "      <th>VendorName</th>\n",
       "    </tr>\n",
       "  </thead>\n",
       "  <tbody>\n",
       "    <tr>\n",
       "      <th>0</th>\n",
       "      <td>58</td>\n",
       "      <td>Gekkeikan Black &amp; Gold Sake</td>\n",
       "      <td>12.99</td>\n",
       "      <td>750mL</td>\n",
       "      <td>750</td>\n",
       "      <td>9.28</td>\n",
       "      <td>8320</td>\n",
       "      <td>SHAW ROSS INT L IMP LTD</td>\n",
       "    </tr>\n",
       "    <tr>\n",
       "      <th>1</th>\n",
       "      <td>62</td>\n",
       "      <td>Herradura Silver Tequila</td>\n",
       "      <td>36.99</td>\n",
       "      <td>750mL</td>\n",
       "      <td>750</td>\n",
       "      <td>28.67</td>\n",
       "      <td>1128</td>\n",
       "      <td>BROWN-FORMAN CORP</td>\n",
       "    </tr>\n",
       "    <tr>\n",
       "      <th>2</th>\n",
       "      <td>63</td>\n",
       "      <td>Herradura Reposado Tequila</td>\n",
       "      <td>38.99</td>\n",
       "      <td>750mL</td>\n",
       "      <td>750</td>\n",
       "      <td>30.46</td>\n",
       "      <td>1128</td>\n",
       "      <td>BROWN-FORMAN CORP</td>\n",
       "    </tr>\n",
       "    <tr>\n",
       "      <th>3</th>\n",
       "      <td>72</td>\n",
       "      <td>No. 3 London Dry Gin</td>\n",
       "      <td>34.99</td>\n",
       "      <td>750mL</td>\n",
       "      <td>750</td>\n",
       "      <td>26.11</td>\n",
       "      <td>9165</td>\n",
       "      <td>ULTRA BEVERAGE COMPANY LLP</td>\n",
       "    </tr>\n",
       "    <tr>\n",
       "      <th>4</th>\n",
       "      <td>75</td>\n",
       "      <td>Three Olives Tomato Vodka</td>\n",
       "      <td>14.99</td>\n",
       "      <td>750mL</td>\n",
       "      <td>750</td>\n",
       "      <td>10.94</td>\n",
       "      <td>7245</td>\n",
       "      <td>PROXIMO SPIRITS INC.</td>\n",
       "    </tr>\n",
       "  </tbody>\n",
       "</table>\n",
       "</div>"
      ],
      "text/plain": [
       "   Brand                  Description  Price   Size Volume  PurchasePrice  \\\n",
       "0     58  Gekkeikan Black & Gold Sake  12.99  750mL    750           9.28   \n",
       "1     62     Herradura Silver Tequila  36.99  750mL    750          28.67   \n",
       "2     63   Herradura Reposado Tequila  38.99  750mL    750          30.46   \n",
       "3     72         No. 3 London Dry Gin  34.99  750mL    750          26.11   \n",
       "4     75    Three Olives Tomato Vodka  14.99  750mL    750          10.94   \n",
       "\n",
       "   VendorNumber                  VendorName  \n",
       "0          8320     SHAW ROSS INT L IMP LTD  \n",
       "1          1128           BROWN-FORMAN CORP  \n",
       "2          1128           BROWN-FORMAN CORP  \n",
       "3          9165  ULTRA BEVERAGE COMPANY LLP  \n",
       "4          7245        PROXIMO SPIRITS INC.  "
      ]
     },
     "execution_count": 19,
     "metadata": {},
     "output_type": "execute_result"
    }
   ],
   "source": [
    "Purchase_price_info.head(5)"
   ]
  },
  {
   "cell_type": "code",
   "execution_count": 20,
   "id": "e96d4ede-418b-474b-b306-c5bc44dc81d5",
   "metadata": {},
   "outputs": [
    {
     "data": {
      "text/plain": [
       "Brand            0\n",
       "Description      0\n",
       "Price            0\n",
       "Size             0\n",
       "Volume           0\n",
       "PurchasePrice    0\n",
       "VendorNumber     0\n",
       "VendorName       0\n",
       "dtype: int64"
      ]
     },
     "execution_count": 20,
     "metadata": {},
     "output_type": "execute_result"
    }
   ],
   "source": [
    "Purchase_price_info.isnull().sum()"
   ]
  },
  {
   "cell_type": "code",
   "execution_count": 21,
   "id": "4a13d80f-8a11-4bcf-a1b3-721358e6b4e2",
   "metadata": {},
   "outputs": [
    {
     "data": {
      "text/html": [
       "<div>\n",
       "<style scoped>\n",
       "    .dataframe tbody tr th:only-of-type {\n",
       "        vertical-align: middle;\n",
       "    }\n",
       "\n",
       "    .dataframe tbody tr th {\n",
       "        vertical-align: top;\n",
       "    }\n",
       "\n",
       "    .dataframe thead th {\n",
       "        text-align: right;\n",
       "    }\n",
       "</style>\n",
       "<table border=\"1\" class=\"dataframe\">\n",
       "  <thead>\n",
       "    <tr style=\"text-align: right;\">\n",
       "      <th></th>\n",
       "      <th>Brand</th>\n",
       "      <th>Price</th>\n",
       "      <th>PurchasePrice</th>\n",
       "      <th>VendorNumber</th>\n",
       "    </tr>\n",
       "  </thead>\n",
       "  <tbody>\n",
       "    <tr>\n",
       "      <th>count</th>\n",
       "      <td>12259.000000</td>\n",
       "      <td>12259.000000</td>\n",
       "      <td>12259.000000</td>\n",
       "      <td>12259.000000</td>\n",
       "    </tr>\n",
       "    <tr>\n",
       "      <th>mean</th>\n",
       "      <td>17991.482503</td>\n",
       "      <td>38.646544</td>\n",
       "      <td>26.491628</td>\n",
       "      <td>10816.378090</td>\n",
       "    </tr>\n",
       "    <tr>\n",
       "      <th>std</th>\n",
       "      <td>12528.091288</td>\n",
       "      <td>206.167398</td>\n",
       "      <td>156.195445</td>\n",
       "      <td>19008.857456</td>\n",
       "    </tr>\n",
       "    <tr>\n",
       "      <th>min</th>\n",
       "      <td>58.000000</td>\n",
       "      <td>0.490000</td>\n",
       "      <td>0.350000</td>\n",
       "      <td>2.000000</td>\n",
       "    </tr>\n",
       "    <tr>\n",
       "      <th>25%</th>\n",
       "      <td>5997.500000</td>\n",
       "      <td>10.990000</td>\n",
       "      <td>6.890000</td>\n",
       "      <td>3960.000000</td>\n",
       "    </tr>\n",
       "    <tr>\n",
       "      <th>50%</th>\n",
       "      <td>18790.000000</td>\n",
       "      <td>15.990000</td>\n",
       "      <td>10.650000</td>\n",
       "      <td>7153.000000</td>\n",
       "    </tr>\n",
       "    <tr>\n",
       "      <th>75%</th>\n",
       "      <td>25117.500000</td>\n",
       "      <td>29.990000</td>\n",
       "      <td>20.130000</td>\n",
       "      <td>9552.000000</td>\n",
       "    </tr>\n",
       "    <tr>\n",
       "      <th>max</th>\n",
       "      <td>90631.000000</td>\n",
       "      <td>13999.900000</td>\n",
       "      <td>11111.030000</td>\n",
       "      <td>173357.000000</td>\n",
       "    </tr>\n",
       "  </tbody>\n",
       "</table>\n",
       "</div>"
      ],
      "text/plain": [
       "              Brand         Price  PurchasePrice   VendorNumber\n",
       "count  12259.000000  12259.000000   12259.000000   12259.000000\n",
       "mean   17991.482503     38.646544      26.491628   10816.378090\n",
       "std    12528.091288    206.167398     156.195445   19008.857456\n",
       "min       58.000000      0.490000       0.350000       2.000000\n",
       "25%     5997.500000     10.990000       6.890000    3960.000000\n",
       "50%    18790.000000     15.990000      10.650000    7153.000000\n",
       "75%    25117.500000     29.990000      20.130000    9552.000000\n",
       "max    90631.000000  13999.900000   11111.030000  173357.000000"
      ]
     },
     "execution_count": 21,
     "metadata": {},
     "output_type": "execute_result"
    }
   ],
   "source": [
    "Purchase_price_info.describe()"
   ]
  },
  {
   "cell_type": "code",
   "execution_count": 22,
   "id": "fdcef0d2-ef0f-41ec-a2c1-c9671be737a5",
   "metadata": {},
   "outputs": [],
   "source": [
    "Purchase_price_info.to_csv(r\"C:\\Users\\GURU PRAVEEN REDDY J\\Desktop\\Datasets\\Vendor Data Project Datasets\\data\\Cleaned Datasets\\Purchase_price_info.csv\",index=False)"
   ]
  },
  {
   "cell_type": "code",
   "execution_count": null,
   "id": "cb8f890f-9efd-421c-a85f-aa175484b7cb",
   "metadata": {},
   "outputs": [],
   "source": []
  },
  {
   "cell_type": "code",
   "execution_count": null,
   "id": "f3d2336d-63ca-4f04-b31e-0cdf8a0ec506",
   "metadata": {},
   "outputs": [],
   "source": []
  }
 ],
 "metadata": {
  "kernelspec": {
   "display_name": "Python 3 (ipykernel)",
   "language": "python",
   "name": "python3"
  },
  "language_info": {
   "codemirror_mode": {
    "name": "ipython",
    "version": 3
   },
   "file_extension": ".py",
   "mimetype": "text/x-python",
   "name": "python",
   "nbconvert_exporter": "python",
   "pygments_lexer": "ipython3",
   "version": "3.13.2"
  }
 },
 "nbformat": 4,
 "nbformat_minor": 5
}
