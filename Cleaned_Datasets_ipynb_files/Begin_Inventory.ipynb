{
 "cells": [
  {
   "cell_type": "code",
   "execution_count": 92,
   "id": "51afb2d6-4607-4d63-9fe8-3fa75130b9c7",
   "metadata": {},
   "outputs": [],
   "source": [
    "import pandas as pd\n",
    "import numpy as np"
   ]
  },
  {
   "cell_type": "code",
   "execution_count": 93,
   "id": "73ea1ad9-e2d1-427b-9b25-ee09a9b59a8d",
   "metadata": {},
   "outputs": [],
   "source": [
    "Begin_Inventory=pd.read_csv(r\"C:\\Users\\GURU PRAVEEN REDDY J\\Desktop\\Datasets\\Vendor Data Project Datasets\\data\\begin_inventory.csv\")"
   ]
  },
  {
   "cell_type": "code",
   "execution_count": 94,
   "id": "a4b45aef-8806-4158-9192-8d3565c0afaa",
   "metadata": {},
   "outputs": [
    {
     "name": "stdout",
     "output_type": "stream",
     "text": [
      "<class 'pandas.core.frame.DataFrame'>\n",
      "RangeIndex: 206529 entries, 0 to 206528\n",
      "Data columns (total 9 columns):\n",
      " #   Column       Non-Null Count   Dtype  \n",
      "---  ------       --------------   -----  \n",
      " 0   InventoryId  206529 non-null  object \n",
      " 1   Store        206529 non-null  int64  \n",
      " 2   City         206529 non-null  object \n",
      " 3   Brand        206529 non-null  int64  \n",
      " 4   Description  206529 non-null  object \n",
      " 5   Size         206529 non-null  object \n",
      " 6   onHand       206529 non-null  int64  \n",
      " 7   Price        206529 non-null  float64\n",
      " 8   startDate    206529 non-null  object \n",
      "dtypes: float64(1), int64(3), object(5)\n",
      "memory usage: 14.2+ MB\n"
     ]
    }
   ],
   "source": [
    "Begin_Inventory.info()"
   ]
  },
  {
   "cell_type": "code",
   "execution_count": 95,
   "id": "dbbffc16-8767-4935-8615-a9007bf62f80",
   "metadata": {},
   "outputs": [
    {
     "data": {
      "text/plain": [
       "InventoryId    0\n",
       "Store          0\n",
       "City           0\n",
       "Brand          0\n",
       "Description    0\n",
       "Size           0\n",
       "onHand         0\n",
       "Price          0\n",
       "startDate      0\n",
       "dtype: int64"
      ]
     },
     "execution_count": 95,
     "metadata": {},
     "output_type": "execute_result"
    }
   ],
   "source": [
    "Begin_Inventory.isnull().sum()"
   ]
  },
  {
   "cell_type": "code",
   "execution_count": 96,
   "id": "bccce635-c56f-441c-b624-db650db79cf9",
   "metadata": {},
   "outputs": [],
   "source": [
    "### In the bgin inventory there was no nulls in any columns"
   ]
  },
  {
   "cell_type": "code",
   "execution_count": 97,
   "id": "739a11de-acdb-49f2-b21b-e444f888a564",
   "metadata": {},
   "outputs": [
    {
     "data": {
      "text/html": [
       "<div>\n",
       "<style scoped>\n",
       "    .dataframe tbody tr th:only-of-type {\n",
       "        vertical-align: middle;\n",
       "    }\n",
       "\n",
       "    .dataframe tbody tr th {\n",
       "        vertical-align: top;\n",
       "    }\n",
       "\n",
       "    .dataframe thead th {\n",
       "        text-align: right;\n",
       "    }\n",
       "</style>\n",
       "<table border=\"1\" class=\"dataframe\">\n",
       "  <thead>\n",
       "    <tr style=\"text-align: right;\">\n",
       "      <th></th>\n",
       "      <th>InventoryId</th>\n",
       "      <th>Store</th>\n",
       "      <th>City</th>\n",
       "      <th>Brand</th>\n",
       "      <th>Description</th>\n",
       "      <th>Size</th>\n",
       "      <th>onHand</th>\n",
       "      <th>Price</th>\n",
       "      <th>startDate</th>\n",
       "    </tr>\n",
       "  </thead>\n",
       "  <tbody>\n",
       "    <tr>\n",
       "      <th>143559</th>\n",
       "      <td>59_CLAETHORPES_44911</td>\n",
       "      <td>59</td>\n",
       "      <td>CLAETHORPES</td>\n",
       "      <td>44911</td>\n",
       "      <td>Spy Valley Svgn Bl Marlboro</td>\n",
       "      <td>750mL</td>\n",
       "      <td>11</td>\n",
       "      <td>17.99</td>\n",
       "      <td>2024-01-01</td>\n",
       "    </tr>\n",
       "    <tr>\n",
       "      <th>137801</th>\n",
       "      <td>57_LANTEGLOS_540</td>\n",
       "      <td>57</td>\n",
       "      <td>LANTEGLOS</td>\n",
       "      <td>540</td>\n",
       "      <td>Bacardi Pineapple Fusion</td>\n",
       "      <td>50mL</td>\n",
       "      <td>61</td>\n",
       "      <td>0.99</td>\n",
       "      <td>2024-01-01</td>\n",
       "    </tr>\n",
       "    <tr>\n",
       "      <th>172497</th>\n",
       "      <td>69_MOUNTMEND_1038</td>\n",
       "      <td>69</td>\n",
       "      <td>MOUNTMEND</td>\n",
       "      <td>1038</td>\n",
       "      <td>1800 Silver w/ Shot Glasses</td>\n",
       "      <td>750mL</td>\n",
       "      <td>0</td>\n",
       "      <td>21.99</td>\n",
       "      <td>2024-01-01</td>\n",
       "    </tr>\n",
       "    <tr>\n",
       "      <th>130462</th>\n",
       "      <td>54_GUTHRAM_35664</td>\n",
       "      <td>54</td>\n",
       "      <td>GUTHRAM</td>\n",
       "      <td>35664</td>\n",
       "      <td>Redwood Creek Cab Svgn Cal</td>\n",
       "      <td>1.5L</td>\n",
       "      <td>49</td>\n",
       "      <td>9.99</td>\n",
       "      <td>2024-01-01</td>\n",
       "    </tr>\n",
       "    <tr>\n",
       "      <th>78884</th>\n",
       "      <td>34_PITMERDEN_2591</td>\n",
       "      <td>34</td>\n",
       "      <td>PITMERDEN</td>\n",
       "      <td>2591</td>\n",
       "      <td>Cardhu Scotch</td>\n",
       "      <td>750mL</td>\n",
       "      <td>10</td>\n",
       "      <td>39.99</td>\n",
       "      <td>2024-01-01</td>\n",
       "    </tr>\n",
       "  </tbody>\n",
       "</table>\n",
       "</div>"
      ],
      "text/plain": [
       "                 InventoryId  Store         City  Brand  \\\n",
       "143559  59_CLAETHORPES_44911     59  CLAETHORPES  44911   \n",
       "137801      57_LANTEGLOS_540     57    LANTEGLOS    540   \n",
       "172497     69_MOUNTMEND_1038     69    MOUNTMEND   1038   \n",
       "130462      54_GUTHRAM_35664     54      GUTHRAM  35664   \n",
       "78884      34_PITMERDEN_2591     34    PITMERDEN   2591   \n",
       "\n",
       "                        Description   Size  onHand  Price   startDate  \n",
       "143559  Spy Valley Svgn Bl Marlboro  750mL      11  17.99  2024-01-01  \n",
       "137801     Bacardi Pineapple Fusion   50mL      61   0.99  2024-01-01  \n",
       "172497  1800 Silver w/ Shot Glasses  750mL       0  21.99  2024-01-01  \n",
       "130462   Redwood Creek Cab Svgn Cal   1.5L      49   9.99  2024-01-01  \n",
       "78884                 Cardhu Scotch  750mL      10  39.99  2024-01-01  "
      ]
     },
     "execution_count": 97,
     "metadata": {},
     "output_type": "execute_result"
    }
   ],
   "source": [
    "Begin_Inventory.sample(5)"
   ]
  },
  {
   "cell_type": "code",
   "execution_count": 98,
   "id": "917e1679-7e8f-4ca1-ad2d-9357a6b20e71",
   "metadata": {},
   "outputs": [],
   "source": [
    "### After exploing all vendor performnace related datasets, i am not using all columns except on hand qty details in the final EDA part.\n",
    "### However will check the data quality of each column and clean it."
   ]
  },
  {
   "cell_type": "code",
   "execution_count": 99,
   "id": "f9f3f21b-d68e-4621-b05d-51d6197379a1",
   "metadata": {},
   "outputs": [
    {
     "data": {
      "text/plain": [
       "206529"
      ]
     },
     "execution_count": 99,
     "metadata": {},
     "output_type": "execute_result"
    }
   ],
   "source": [
    "Begin_Inventory[\"InventoryId\"].nunique() ### all are unique there are no duplicates in the data"
   ]
  },
  {
   "cell_type": "code",
   "execution_count": 100,
   "id": "e4ceaa01-27c0-4e8a-8f27-0bfab28e10bd",
   "metadata": {},
   "outputs": [
    {
     "data": {
      "text/html": [
       "<div>\n",
       "<style scoped>\n",
       "    .dataframe tbody tr th:only-of-type {\n",
       "        vertical-align: middle;\n",
       "    }\n",
       "\n",
       "    .dataframe tbody tr th {\n",
       "        vertical-align: top;\n",
       "    }\n",
       "\n",
       "    .dataframe thead th {\n",
       "        text-align: right;\n",
       "    }\n",
       "</style>\n",
       "<table border=\"1\" class=\"dataframe\">\n",
       "  <thead>\n",
       "    <tr style=\"text-align: right;\">\n",
       "      <th></th>\n",
       "      <th>InventoryId</th>\n",
       "      <th>Store</th>\n",
       "      <th>City</th>\n",
       "      <th>Brand</th>\n",
       "      <th>Description</th>\n",
       "      <th>Size</th>\n",
       "      <th>onHand</th>\n",
       "      <th>Price</th>\n",
       "      <th>startDate</th>\n",
       "    </tr>\n",
       "  </thead>\n",
       "  <tbody>\n",
       "  </tbody>\n",
       "</table>\n",
       "</div>"
      ],
      "text/plain": [
       "Empty DataFrame\n",
       "Columns: [InventoryId, Store, City, Brand, Description, Size, onHand, Price, startDate]\n",
       "Index: []"
      ]
     },
     "execution_count": 100,
     "metadata": {},
     "output_type": "execute_result"
    }
   ],
   "source": [
    "Begin_Inventory[Begin_Inventory[\"InventoryId\"].str.strip()!=Begin_Inventory[\"InventoryId\"]] ### There are no whitespaces in the the column"
   ]
  },
  {
   "cell_type": "code",
   "execution_count": 101,
   "id": "5dec2955-aae0-45ff-86ce-6e502e908701",
   "metadata": {},
   "outputs": [
    {
     "data": {
      "text/plain": [
       "array(['HARDERSFIELD', 'ASHBORNE', 'HORNSEY', 'EANVERNESS', 'SUTTON',\n",
       "       'GOULCREST', 'STANMORE', 'ALNERWICK', 'BLACKPOOL', 'CARDEND',\n",
       "       'LEESIDE', 'TARMSWORTH', 'BROMWICH', 'WANBORNE', 'LUNDY', 'OLDHAM',\n",
       "       'FURNESS', 'WINTERVALE', 'BREDWARDINE', 'BALERNO', 'SHARNWICK',\n",
       "       'ARBINGTON', 'PALPERROTH', 'CAERSHIRE', \"KNIFE'S EDGE\",\n",
       "       'MOUNTMEND', 'LARNWICK', 'AYLESBURY', 'CULCHETH', 'PITMERDEN',\n",
       "       'HALIVAARA', 'LEWES', 'PAETHSMOUTH', 'EASTHALLOW', 'BULLMAR',\n",
       "       'BLACK HOLLOW', 'WOLFORD', 'PORTHCRAWL', 'VERITAS', 'TYWARDREATH',\n",
       "       \"PELLA'S WISH\", 'NORFOLK', 'GARIGILL', 'ABERDEEN', 'GRAYCOTT',\n",
       "       'HILLFAR', 'GUTHRAM', 'DRY GULCH', \"BEGGAR'S HOLE\", 'LANTEGLOS',\n",
       "       'HARTLEPOOL', 'CLAETHORPES', 'IRRAGIN', 'AETHELNEY', 'KILMARNOCK',\n",
       "       'SWORDBREAK', 'CESTERFIELD', 'LUTON', 'SOLARIS', 'KELD',\n",
       "       'CLARCTON', 'DONCASTER', 'PAENTMARWY', 'BARNCOMBE', 'TAMWORTH',\n",
       "       'EASTHAVEN', 'BALLYMENA'], dtype=object)"
      ]
     },
     "execution_count": 101,
     "metadata": {},
     "output_type": "execute_result"
    }
   ],
   "source": [
    "Begin_Inventory[\"City\"].unique() ### all unique cities"
   ]
  },
  {
   "cell_type": "code",
   "execution_count": 102,
   "id": "4d6b426e-46f5-4418-b6df-a808ecbcc442",
   "metadata": {},
   "outputs": [
    {
     "data": {
      "text/plain": [
       "8094"
      ]
     },
     "execution_count": 102,
     "metadata": {},
     "output_type": "execute_result"
    }
   ],
   "source": [
    "Begin_Inventory[\"Brand\"].nunique()"
   ]
  },
  {
   "cell_type": "code",
   "execution_count": 103,
   "id": "e39baf9d-4771-42fd-ba6e-ba8a79b43d48",
   "metadata": {},
   "outputs": [
    {
     "data": {
      "text/plain": [
       "array(['750mL', 'Liter', '1.75L', '50mL', '375mL', '50mL 4 Pk',\n",
       "       '375mL 2 Pk', '750mL 3 Pk', '375mL 3 Pk', '750mL + 3/',\n",
       "       '200mL 3 Pk', '50mL 3 Pk', '100mL 4 Pk', '100mL', '50mL 5 Pk',\n",
       "       '200mL 4 Pk', '250mL 4 Pk', '750mL 2 Pk', '200mL', '3/100mL',\n",
       "       '1.5L', '5L', '4L', '187mL 4 Pk', '3L', '5.0 Oz', '187mL', '500mL',\n",
       "       '187mL 3 Pk', '300mL', '50mL 12 Pk', '330mL', '250mL', '18L',\n",
       "       '750mL + 2/', '180mL', '720mL', '22.0 Oz', '6L', '20L',\n",
       "       '750mL + 4/'], dtype=object)"
      ]
     },
     "execution_count": 103,
     "metadata": {},
     "output_type": "execute_result"
    }
   ],
   "source": [
    "Begin_Inventory[\"Size\"].unique()"
   ]
  },
  {
   "cell_type": "code",
   "execution_count": 104,
   "id": "be15ad18-4afc-47d2-a3a6-38028e961cc8",
   "metadata": {},
   "outputs": [],
   "source": [
    "conversion_dict = {\n",
    "    '750mL': '750', 'Liter': '1000', '1.75L': '1750', '50mL': '50',\n",
    "    '375mL': '375', '50mL 4 Pk': '200', '375mL 2 Pk': '750',\n",
    "    '750mL 3 Pk': '2250', '375mL 3 Pk': '1125', '750mL + 3/': '900',\n",
    "    '200mL 3 Pk': '600', '50mL 3 Pk': '150', '100mL 4 Pk': '400',\n",
    "    '100mL': '100', '50mL 5 Pk': '250', '200mL 4 Pk': '800',\n",
    "    '250mL 4 Pk': '1000', '750mL 2 Pk': '1500', '200mL': '200',\n",
    "    '3/100mL': '300', '1.5L': '1500', '5L': '5000', '4L': '4000',\n",
    "    '187mL 4 Pk': '748', '3L': '3000', '5.0 Oz': '147.87',\n",
    "    '187mL': '187', '500mL': '500', '187mL 3 Pk': '561',\n",
    "    '300mL': '300', '50mL 12 Pk': '600', '330mL': '330',\n",
    "    '250mL': '250', '18L': '18000', '750mL + 2/': '850',\n",
    "    '180mL': '180', '720mL': '720', '22.0 Oz': '650.62',\n",
    "    '6L': '6000', '20L': '20000', '750mL + 4/': '950'\n",
    "}"
   ]
  },
  {
   "cell_type": "code",
   "execution_count": 105,
   "id": "a9338ea4-20a7-4381-b025-c659942d8669",
   "metadata": {},
   "outputs": [],
   "source": [
    "Begin_Inventory[\"Size\"]=Begin_Inventory[\"Size\"].replace(conversion_dict)"
   ]
  },
  {
   "cell_type": "code",
   "execution_count": 106,
   "id": "f89f6d00-399d-47a3-b7f9-53df25e2cfc1",
   "metadata": {},
   "outputs": [],
   "source": [
    "Begin_Inventory.rename(columns={\"Size\":\"Size in ml\"},inplace=True)"
   ]
  },
  {
   "cell_type": "code",
   "execution_count": 107,
   "id": "f7af6ae7-cbd1-4fea-b10e-b8fd589c0965",
   "metadata": {},
   "outputs": [],
   "source": [
    "Begin_Inventory[\"Size in ml\"]=Begin_Inventory[\"Size in ml\"].astype(dtype=\"float\")"
   ]
  },
  {
   "cell_type": "code",
   "execution_count": 108,
   "id": "b14570b9-01b2-4965-822b-73ba94f58524",
   "metadata": {},
   "outputs": [],
   "source": [
    "Begin_Inventory[\"startDate\"]=pd.to_datetime(Begin_Inventory[\"startDate\"])"
   ]
  },
  {
   "cell_type": "code",
   "execution_count": 109,
   "id": "6fc0a2ad-5ece-42f8-a161-b6e72d9f0b05",
   "metadata": {},
   "outputs": [],
   "source": [
    "Begin_Inventory[\"startDate\"]=Begin_Inventory[\"startDate\"].dt.date"
   ]
  },
  {
   "cell_type": "code",
   "execution_count": 110,
   "id": "628541a9-b918-4614-bcbe-aaabafc3cc5c",
   "metadata": {},
   "outputs": [
    {
     "data": {
      "text/html": [
       "<div>\n",
       "<style scoped>\n",
       "    .dataframe tbody tr th:only-of-type {\n",
       "        vertical-align: middle;\n",
       "    }\n",
       "\n",
       "    .dataframe tbody tr th {\n",
       "        vertical-align: top;\n",
       "    }\n",
       "\n",
       "    .dataframe thead th {\n",
       "        text-align: right;\n",
       "    }\n",
       "</style>\n",
       "<table border=\"1\" class=\"dataframe\">\n",
       "  <thead>\n",
       "    <tr style=\"text-align: right;\">\n",
       "      <th></th>\n",
       "      <th>Store</th>\n",
       "      <th>Brand</th>\n",
       "      <th>Size in ml</th>\n",
       "      <th>onHand</th>\n",
       "      <th>Price</th>\n",
       "    </tr>\n",
       "  </thead>\n",
       "  <tbody>\n",
       "    <tr>\n",
       "      <th>count</th>\n",
       "      <td>206529.000000</td>\n",
       "      <td>206529.000000</td>\n",
       "      <td>206529.000000</td>\n",
       "      <td>206529.000000</td>\n",
       "      <td>206529.000000</td>\n",
       "    </tr>\n",
       "    <tr>\n",
       "      <th>mean</th>\n",
       "      <td>42.122457</td>\n",
       "      <td>13761.482320</td>\n",
       "      <td>918.302031</td>\n",
       "      <td>20.429455</td>\n",
       "      <td>22.253910</td>\n",
       "    </tr>\n",
       "    <tr>\n",
       "      <th>std</th>\n",
       "      <td>23.191393</td>\n",
       "      <td>13059.429355</td>\n",
       "      <td>601.747825</td>\n",
       "      <td>31.467342</td>\n",
       "      <td>70.178964</td>\n",
       "    </tr>\n",
       "    <tr>\n",
       "      <th>min</th>\n",
       "      <td>1.000000</td>\n",
       "      <td>58.000000</td>\n",
       "      <td>50.000000</td>\n",
       "      <td>0.000000</td>\n",
       "      <td>0.000000</td>\n",
       "    </tr>\n",
       "    <tr>\n",
       "      <th>25%</th>\n",
       "      <td>22.000000</td>\n",
       "      <td>3746.000000</td>\n",
       "      <td>750.000000</td>\n",
       "      <td>7.000000</td>\n",
       "      <td>9.990000</td>\n",
       "    </tr>\n",
       "    <tr>\n",
       "      <th>50%</th>\n",
       "      <td>42.000000</td>\n",
       "      <td>8010.000000</td>\n",
       "      <td>750.000000</td>\n",
       "      <td>12.000000</td>\n",
       "      <td>14.990000</td>\n",
       "    </tr>\n",
       "    <tr>\n",
       "      <th>75%</th>\n",
       "      <td>64.000000</td>\n",
       "      <td>22143.000000</td>\n",
       "      <td>750.000000</td>\n",
       "      <td>21.000000</td>\n",
       "      <td>21.990000</td>\n",
       "    </tr>\n",
       "    <tr>\n",
       "      <th>max</th>\n",
       "      <td>79.000000</td>\n",
       "      <td>90090.000000</td>\n",
       "      <td>20000.000000</td>\n",
       "      <td>1251.000000</td>\n",
       "      <td>13999.900000</td>\n",
       "    </tr>\n",
       "  </tbody>\n",
       "</table>\n",
       "</div>"
      ],
      "text/plain": [
       "               Store          Brand     Size in ml         onHand  \\\n",
       "count  206529.000000  206529.000000  206529.000000  206529.000000   \n",
       "mean       42.122457   13761.482320     918.302031      20.429455   \n",
       "std        23.191393   13059.429355     601.747825      31.467342   \n",
       "min         1.000000      58.000000      50.000000       0.000000   \n",
       "25%        22.000000    3746.000000     750.000000       7.000000   \n",
       "50%        42.000000    8010.000000     750.000000      12.000000   \n",
       "75%        64.000000   22143.000000     750.000000      21.000000   \n",
       "max        79.000000   90090.000000   20000.000000    1251.000000   \n",
       "\n",
       "               Price  \n",
       "count  206529.000000  \n",
       "mean       22.253910  \n",
       "std        70.178964  \n",
       "min         0.000000  \n",
       "25%         9.990000  \n",
       "50%        14.990000  \n",
       "75%        21.990000  \n",
       "max     13999.900000  "
      ]
     },
     "execution_count": 110,
     "metadata": {},
     "output_type": "execute_result"
    }
   ],
   "source": [
    "Begin_Inventory.describe()"
   ]
  },
  {
   "cell_type": "code",
   "execution_count": 111,
   "id": "182a4a08-466f-43d4-92ac-52b03b4d8c7a",
   "metadata": {},
   "outputs": [],
   "source": [
    "Begin_Inventory.to_csv(r\"C:\\Users\\GURU PRAVEEN REDDY J\\Desktop\\Datasets\\Vendor Data Project Datasets\\data\\Cleaned Datasets\\Begin_Inventory.csv\",index=False)"
   ]
  },
  {
   "cell_type": "code",
   "execution_count": 112,
   "id": "05e162c5-e92e-4a1b-bd17-8226648f02df",
   "metadata": {},
   "outputs": [
    {
     "data": {
      "text/html": [
       "<div>\n",
       "<style scoped>\n",
       "    .dataframe tbody tr th:only-of-type {\n",
       "        vertical-align: middle;\n",
       "    }\n",
       "\n",
       "    .dataframe tbody tr th {\n",
       "        vertical-align: top;\n",
       "    }\n",
       "\n",
       "    .dataframe thead th {\n",
       "        text-align: right;\n",
       "    }\n",
       "</style>\n",
       "<table border=\"1\" class=\"dataframe\">\n",
       "  <thead>\n",
       "    <tr style=\"text-align: right;\">\n",
       "      <th></th>\n",
       "      <th>InventoryId</th>\n",
       "      <th>Store</th>\n",
       "      <th>City</th>\n",
       "      <th>Brand</th>\n",
       "      <th>Description</th>\n",
       "      <th>Size in ml</th>\n",
       "      <th>onHand</th>\n",
       "      <th>Price</th>\n",
       "      <th>startDate</th>\n",
       "    </tr>\n",
       "  </thead>\n",
       "  <tbody>\n",
       "    <tr>\n",
       "      <th>0</th>\n",
       "      <td>1_HARDERSFIELD_58</td>\n",
       "      <td>1</td>\n",
       "      <td>HARDERSFIELD</td>\n",
       "      <td>58</td>\n",
       "      <td>Gekkeikan Black &amp; Gold Sake</td>\n",
       "      <td>750.0</td>\n",
       "      <td>8</td>\n",
       "      <td>12.99</td>\n",
       "      <td>2024-01-01</td>\n",
       "    </tr>\n",
       "    <tr>\n",
       "      <th>1</th>\n",
       "      <td>1_HARDERSFIELD_60</td>\n",
       "      <td>1</td>\n",
       "      <td>HARDERSFIELD</td>\n",
       "      <td>60</td>\n",
       "      <td>Canadian Club 1858 VAP</td>\n",
       "      <td>750.0</td>\n",
       "      <td>7</td>\n",
       "      <td>10.99</td>\n",
       "      <td>2024-01-01</td>\n",
       "    </tr>\n",
       "    <tr>\n",
       "      <th>2</th>\n",
       "      <td>1_HARDERSFIELD_62</td>\n",
       "      <td>1</td>\n",
       "      <td>HARDERSFIELD</td>\n",
       "      <td>62</td>\n",
       "      <td>Herradura Silver Tequila</td>\n",
       "      <td>750.0</td>\n",
       "      <td>6</td>\n",
       "      <td>36.99</td>\n",
       "      <td>2024-01-01</td>\n",
       "    </tr>\n",
       "    <tr>\n",
       "      <th>3</th>\n",
       "      <td>1_HARDERSFIELD_63</td>\n",
       "      <td>1</td>\n",
       "      <td>HARDERSFIELD</td>\n",
       "      <td>63</td>\n",
       "      <td>Herradura Reposado Tequila</td>\n",
       "      <td>750.0</td>\n",
       "      <td>3</td>\n",
       "      <td>38.99</td>\n",
       "      <td>2024-01-01</td>\n",
       "    </tr>\n",
       "    <tr>\n",
       "      <th>4</th>\n",
       "      <td>1_HARDERSFIELD_72</td>\n",
       "      <td>1</td>\n",
       "      <td>HARDERSFIELD</td>\n",
       "      <td>72</td>\n",
       "      <td>No. 3 London Dry Gin</td>\n",
       "      <td>750.0</td>\n",
       "      <td>6</td>\n",
       "      <td>34.99</td>\n",
       "      <td>2024-01-01</td>\n",
       "    </tr>\n",
       "    <tr>\n",
       "      <th>...</th>\n",
       "      <td>...</td>\n",
       "      <td>...</td>\n",
       "      <td>...</td>\n",
       "      <td>...</td>\n",
       "      <td>...</td>\n",
       "      <td>...</td>\n",
       "      <td>...</td>\n",
       "      <td>...</td>\n",
       "      <td>...</td>\n",
       "    </tr>\n",
       "    <tr>\n",
       "      <th>206524</th>\n",
       "      <td>79_BALLYMENA_46985</td>\n",
       "      <td>79</td>\n",
       "      <td>BALLYMENA</td>\n",
       "      <td>46985</td>\n",
       "      <td>Rodney Strong Cab Svgn Alexa</td>\n",
       "      <td>750.0</td>\n",
       "      <td>13</td>\n",
       "      <td>22.99</td>\n",
       "      <td>2024-01-01</td>\n",
       "    </tr>\n",
       "    <tr>\n",
       "      <th>206525</th>\n",
       "      <td>79_BALLYMENA_47014</td>\n",
       "      <td>79</td>\n",
       "      <td>BALLYMENA</td>\n",
       "      <td>47014</td>\n",
       "      <td>Juan Gil Jumilla Rd</td>\n",
       "      <td>750.0</td>\n",
       "      <td>13</td>\n",
       "      <td>13.99</td>\n",
       "      <td>2024-01-01</td>\n",
       "    </tr>\n",
       "    <tr>\n",
       "      <th>206526</th>\n",
       "      <td>79_BALLYMENA_47090</td>\n",
       "      <td>79</td>\n",
       "      <td>BALLYMENA</td>\n",
       "      <td>47090</td>\n",
       "      <td>Napa Cellars Cab Svgn Napa</td>\n",
       "      <td>750.0</td>\n",
       "      <td>19</td>\n",
       "      <td>23.99</td>\n",
       "      <td>2024-01-01</td>\n",
       "    </tr>\n",
       "    <tr>\n",
       "      <th>206527</th>\n",
       "      <td>79_BALLYMENA_90011</td>\n",
       "      <td>79</td>\n",
       "      <td>BALLYMENA</td>\n",
       "      <td>90011</td>\n",
       "      <td>Ch Pichon Longville 12 Pauil</td>\n",
       "      <td>750.0</td>\n",
       "      <td>12</td>\n",
       "      <td>144.99</td>\n",
       "      <td>2024-01-01</td>\n",
       "    </tr>\n",
       "    <tr>\n",
       "      <th>206528</th>\n",
       "      <td>79_BALLYMENA_90089</td>\n",
       "      <td>79</td>\n",
       "      <td>BALLYMENA</td>\n",
       "      <td>90089</td>\n",
       "      <td>Ch Lynch Bages 12 Pauillac</td>\n",
       "      <td>750.0</td>\n",
       "      <td>24</td>\n",
       "      <td>119.99</td>\n",
       "      <td>2024-01-01</td>\n",
       "    </tr>\n",
       "  </tbody>\n",
       "</table>\n",
       "<p>206529 rows × 9 columns</p>\n",
       "</div>"
      ],
      "text/plain": [
       "               InventoryId  Store          City  Brand  \\\n",
       "0        1_HARDERSFIELD_58      1  HARDERSFIELD     58   \n",
       "1        1_HARDERSFIELD_60      1  HARDERSFIELD     60   \n",
       "2        1_HARDERSFIELD_62      1  HARDERSFIELD     62   \n",
       "3        1_HARDERSFIELD_63      1  HARDERSFIELD     63   \n",
       "4        1_HARDERSFIELD_72      1  HARDERSFIELD     72   \n",
       "...                    ...    ...           ...    ...   \n",
       "206524  79_BALLYMENA_46985     79     BALLYMENA  46985   \n",
       "206525  79_BALLYMENA_47014     79     BALLYMENA  47014   \n",
       "206526  79_BALLYMENA_47090     79     BALLYMENA  47090   \n",
       "206527  79_BALLYMENA_90011     79     BALLYMENA  90011   \n",
       "206528  79_BALLYMENA_90089     79     BALLYMENA  90089   \n",
       "\n",
       "                         Description  Size in ml  onHand   Price   startDate  \n",
       "0        Gekkeikan Black & Gold Sake       750.0       8   12.99  2024-01-01  \n",
       "1             Canadian Club 1858 VAP       750.0       7   10.99  2024-01-01  \n",
       "2           Herradura Silver Tequila       750.0       6   36.99  2024-01-01  \n",
       "3         Herradura Reposado Tequila       750.0       3   38.99  2024-01-01  \n",
       "4               No. 3 London Dry Gin       750.0       6   34.99  2024-01-01  \n",
       "...                              ...         ...     ...     ...         ...  \n",
       "206524  Rodney Strong Cab Svgn Alexa       750.0      13   22.99  2024-01-01  \n",
       "206525           Juan Gil Jumilla Rd       750.0      13   13.99  2024-01-01  \n",
       "206526    Napa Cellars Cab Svgn Napa       750.0      19   23.99  2024-01-01  \n",
       "206527  Ch Pichon Longville 12 Pauil       750.0      12  144.99  2024-01-01  \n",
       "206528    Ch Lynch Bages 12 Pauillac       750.0      24  119.99  2024-01-01  \n",
       "\n",
       "[206529 rows x 9 columns]"
      ]
     },
     "execution_count": 112,
     "metadata": {},
     "output_type": "execute_result"
    }
   ],
   "source": [
    "Begin_Inventory"
   ]
  },
  {
   "cell_type": "code",
   "execution_count": null,
   "id": "9cdb0e04-3dd9-47ee-9d72-d09a225c5496",
   "metadata": {},
   "outputs": [],
   "source": []
  },
  {
   "cell_type": "code",
   "execution_count": null,
   "id": "edd311cf-42e0-4f4a-8229-419457a3c53b",
   "metadata": {},
   "outputs": [],
   "source": []
  },
  {
   "cell_type": "code",
   "execution_count": null,
   "id": "cdfe814a-c9ab-463b-b665-229db9cb0341",
   "metadata": {},
   "outputs": [],
   "source": []
  }
 ],
 "metadata": {
  "kernelspec": {
   "display_name": "Python 3 (ipykernel)",
   "language": "python",
   "name": "python3"
  },
  "language_info": {
   "codemirror_mode": {
    "name": "ipython",
    "version": 3
   },
   "file_extension": ".py",
   "mimetype": "text/x-python",
   "name": "python",
   "nbconvert_exporter": "python",
   "pygments_lexer": "ipython3",
   "version": "3.13.2"
  }
 },
 "nbformat": 4,
 "nbformat_minor": 5
}
